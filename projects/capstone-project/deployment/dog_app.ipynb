{
 "cells": [
  {
   "cell_type": "markdown",
   "metadata": {
    "Collapsed": "false"
   },
   "source": [
    "# Dog Breed Classifier"
   ]
  },
  {
   "cell_type": "markdown",
   "metadata": {
    "Collapsed": "false"
   },
   "source": [
    "Note: This notebook is written down for easier production deployment scenario. So I skip any data exploration step and model training step."
   ]
  },
  {
   "cell_type": "markdown",
   "metadata": {
    "Collapsed": "false"
   },
   "source": [
    "## System Diagram"
   ]
  },
  {
   "cell_type": "markdown",
   "metadata": {
    "Collapsed": "false"
   },
   "source": [
    "![](system-diagram.png)"
   ]
  },
  {
   "cell_type": "markdown",
   "metadata": {
    "Collapsed": "false"
   },
   "source": [
    "- Dog Detection Module: VGG-16 pretrained model\n",
    "- Dog Breed Classifier: Big Transfer(BiT) pretrained model with fine-tuning\n",
    "\n",
    "**Note: Both modules only use CPU for inference.**"
   ]
  },
  {
   "cell_type": "markdown",
   "metadata": {
    "Collapsed": "false"
   },
   "source": [
    "## Import Libraries"
   ]
  },
  {
   "cell_type": "code",
   "execution_count": 1,
   "metadata": {
    "Collapsed": "false"
   },
   "outputs": [
    {
     "name": "stdout",
     "output_type": "stream",
     "text": [
      "Requirement already satisfied: torch in /opt/conda/lib/python3.7/site-packages (1.5.0)\n",
      "Requirement already satisfied: torchvision in /opt/conda/lib/python3.7/site-packages (0.6.0)\n",
      "Requirement already satisfied: future in /opt/conda/lib/python3.7/site-packages (from torch) (0.18.2)\n",
      "Requirement already satisfied: numpy in /opt/conda/lib/python3.7/site-packages (from torch) (1.18.4)\n",
      "Requirement already satisfied: pillow>=4.1.1 in /opt/conda/lib/python3.7/site-packages (from torchvision) (7.1.2)\n"
     ]
    }
   ],
   "source": [
    "!pip install torch torchvision"
   ]
  },
  {
   "cell_type": "code",
   "execution_count": 2,
   "metadata": {
    "Collapsed": "false"
   },
   "outputs": [
    {
     "name": "stdout",
     "output_type": "stream",
     "text": [
      "Requirement already satisfied: torchsummary in /opt/conda/lib/python3.7/site-packages (1.5.1)\n"
     ]
    }
   ],
   "source": [
    "!pip install torchsummary"
   ]
  },
  {
   "cell_type": "code",
   "execution_count": 3,
   "metadata": {
    "Collapsed": "false"
   },
   "outputs": [],
   "source": [
    "import torch\n",
    "import torchvision.models as models\n",
    "import torchvision.transforms as transforms\n",
    "from torchvision import datasets\n",
    "from torch.utils.data import DataLoader\n",
    "from dog_breed_classification.dog_breed_classifier import ResNetV2\n",
    "from torchsummary import summary\n",
    "import numpy as np\n",
    "from glob import glob\n",
    "from tqdm import tqdm\n",
    "from PIL import Image\n",
    "from PIL import ImageFile"
   ]
  },
  {
   "cell_type": "markdown",
   "metadata": {
    "Collapsed": "false"
   },
   "source": [
    "## Import Datasets"
   ]
  },
  {
   "cell_type": "code",
   "execution_count": 4,
   "metadata": {
    "Collapsed": "false"
   },
   "outputs": [
    {
     "name": "stdout",
     "output_type": "stream",
     "text": [
      "--2020-06-08 09:10:45--  https://s3-us-west-1.amazonaws.com/udacity-aind/dog-project/dogImages.zip\n",
      "Resolving s3-us-west-1.amazonaws.com (s3-us-west-1.amazonaws.com)... 52.219.116.1\n",
      "Connecting to s3-us-west-1.amazonaws.com (s3-us-west-1.amazonaws.com)|52.219.116.1|:443... connected.\n",
      "HTTP request sent, awaiting response... 200 OK\n",
      "Length: 1132023110 (1.1G) [application/zip]\n",
      "Saving to: ‘dogImages.zip’\n",
      "\n",
      "dogImages.zip       100%[===================>]   1.05G  18.7MB/s    in 56s     \n",
      "\n",
      "2020-06-08 09:11:42 (19.3 MB/s) - ‘dogImages.zip’ saved [1132023110/1132023110]\n",
      "\n",
      "Archive:  dogImages.zip\n",
      "replace dogImages/test/001.Affenpinscher/Affenpinscher_00003.jpg? [y]es, [n]o, [A]ll, [N]one, [r]ename: ^C\n"
     ]
    }
   ],
   "source": [
    "!wget https://s3-us-west-1.amazonaws.com/udacity-aind/dog-project/dogImages.zip\n",
    "!unzip dogImages.zip\n",
    "!rm dogImages.zip"
   ]
  },
  {
   "cell_type": "code",
   "execution_count": 9,
   "metadata": {
    "Collapsed": "false"
   },
   "outputs": [
    {
     "name": "stdout",
     "output_type": "stream",
     "text": [
      "There are 8351 total dog images.\n"
     ]
    }
   ],
   "source": [
    "dog_files = np.array(glob('dogImages/*/*/*'))\n",
    "print(f'There are {len(dog_files)} total dog images.')"
   ]
  },
  {
   "cell_type": "markdown",
   "metadata": {
    "Collapsed": "false"
   },
   "source": [
    "## Dog Detection"
   ]
  },
  {
   "cell_type": "markdown",
   "metadata": {
    "Collapsed": "false"
   },
   "source": [
    "Try different pretrained models for the ImageNet challenge!\n",
    "\n",
    "![](pretrained_models.jpg)"
   ]
  },
  {
   "cell_type": "markdown",
   "metadata": {
    "Collapsed": "false"
   },
   "source": [
    "I now create a general utility function for different pretraine models first"
   ]
  },
  {
   "cell_type": "code",
   "execution_count": 33,
   "metadata": {
    "Collapsed": "false"
   },
   "outputs": [],
   "source": [
    "num_choice = 500\n",
    "choices = np.random.choice(len(dog_files), num_choice)"
   ]
  },
  {
   "cell_type": "code",
   "execution_count": 34,
   "metadata": {
    "Collapsed": "false"
   },
   "outputs": [],
   "source": [
    "ImageFile.LOAD_TRUNCATED_IMAGES = True\n",
    "\n",
    "def imagenet_pretrained_model_predict(model, preprocess, img_path):\n",
    "    '''\n",
    "    Use a pre-trained model to obtain index corresponding to\n",
    "    predicted ImageNet class for image at specified path\n",
    "    \n",
    "    Args:\n",
    "        img_path: path to an image\n",
    "        \n",
    "    Returns:\n",
    "        index corresponding to pretrained model's prediction\n",
    "    '''\n",
    "    model = model.eval()\n",
    "    input_img = Image.open(img_path)\n",
    "    \n",
    "    input_tensor = preprocess(input_img)\n",
    "    input_batch = input_tensor.unsqueeze(0)\n",
    "    \n",
    "    with torch.no_grad():\n",
    "        output = model(input_batch)\n",
    "        \n",
    "    return output.data.numpy().argmax()"
   ]
  },
  {
   "cell_type": "code",
   "execution_count": 42,
   "metadata": {
    "Collapsed": "false"
   },
   "outputs": [],
   "source": [
    "def dog_detector(model, preprocess, img_path):\n",
    "    result = imagenet_pretrained_model_predict(model, preprocess, img_path)\n",
    "    return 151 <= result <= 268"
   ]
  },
  {
   "cell_type": "markdown",
   "metadata": {
    "Collapsed": "false"
   },
   "source": [
    "While looking at the [dictionary](https://gist.github.com/yrevar/942d3a0ac09ec9e5eb3a), you will notice that the categories corresponding to dogs appear in an uninterrupted sequence and correspond to dictionary keys 151-268, inclusive, to include all categories from 'Chihuahua' to 'Mexican hairless'. Thus, in order to check to see if an image is predicted to contain a dog by the pre-trained model, we need only check if the pre-trained model predicts an index between 151 and 268 (inclusive)."
   ]
  },
  {
   "cell_type": "markdown",
   "metadata": {
    "Collapsed": "false"
   },
   "source": [
    "### VGG16"
   ]
  },
  {
   "cell_type": "code",
   "execution_count": 36,
   "metadata": {
    "Collapsed": "false"
   },
   "outputs": [],
   "source": [
    "vgg16 = models.vgg16(pretrained=True)\n",
    "preprocess = transforms.Compose([\n",
    "    transforms.Resize(256),\n",
    "    transforms.CenterCrop(224),\n",
    "    transforms.ToTensor(),\n",
    "    transforms.Normalize(\n",
    "        mean=[0.485, 0.456, 0.406],\n",
    "        std=[0.229, 0.224, 0.225],\n",
    "    ),\n",
    "])"
   ]
  },
  {
   "cell_type": "code",
   "execution_count": 43,
   "metadata": {
    "Collapsed": "false"
   },
   "outputs": [
    {
     "name": "stdout",
     "output_type": "stream",
     "text": [
      "What percentage in dog_files are successfully detected a dog face?: 0.992\n"
     ]
    }
   ],
   "source": [
    "dog_files_dog_detector_results = [dog_detector(vgg16, preprocess, dog_files[choice]) for choice in choices]\n",
    "print(f'What percentage in dog_files are successfully detected a dog face?: {sum(dog_files_dog_detector_results) / num_choice}')"
   ]
  },
  {
   "cell_type": "markdown",
   "metadata": {
    "Collapsed": "false"
   },
   "source": [
    "### ResNet-50"
   ]
  },
  {
   "cell_type": "code",
   "execution_count": 38,
   "metadata": {
    "Collapsed": "false"
   },
   "outputs": [],
   "source": [
    "resnet50 = models.resnet50(pretrained=True)\n",
    "preprocess = transforms.Compose([\n",
    "    transforms.Resize(256),\n",
    "    transforms.CenterCrop(224),\n",
    "    transforms.ToTensor(),\n",
    "    transforms.Normalize(mean=[0.485, 0.456, 0.406], std=[0.229, 0.224, 0.225]),\n",
    "])"
   ]
  },
  {
   "cell_type": "code",
   "execution_count": 44,
   "metadata": {
    "Collapsed": "false"
   },
   "outputs": [
    {
     "name": "stdout",
     "output_type": "stream",
     "text": [
      "What percentage in dog_files are successfully detected a dog face?: 0.988\n"
     ]
    }
   ],
   "source": [
    "dog_files_dog_detector_results = [dog_detector(resnet50, preprocess, dog_files[choice]) for choice in choices]\n",
    "print(f'What percentage in dog_files are successfully detected a dog face?: {sum(dog_files_dog_detector_results) / num_choice}')"
   ]
  },
  {
   "cell_type": "markdown",
   "metadata": {
    "Collapsed": "false"
   },
   "source": [
    "### MobileNet v2"
   ]
  },
  {
   "cell_type": "code",
   "execution_count": 40,
   "metadata": {
    "Collapsed": "false"
   },
   "outputs": [
    {
     "name": "stderr",
     "output_type": "stream",
     "text": [
      "Downloading: \"https://download.pytorch.org/models/mobilenet_v2-b0353104.pth\" to /home/jupyter/.cache/torch/checkpoints/mobilenet_v2-b0353104.pth\n"
     ]
    },
    {
     "data": {
      "application/vnd.jupyter.widget-view+json": {
       "model_id": "cbf5bf05e015427fac0f25c5982245e9",
       "version_major": 2,
       "version_minor": 0
      },
      "text/plain": [
       "HBox(children=(FloatProgress(value=0.0, max=14212972.0), HTML(value='')))"
      ]
     },
     "metadata": {},
     "output_type": "display_data"
    },
    {
     "name": "stdout",
     "output_type": "stream",
     "text": [
      "\n"
     ]
    }
   ],
   "source": [
    "mobilenet = models.mobilenet_v2(pretrained=True)\n",
    "preprocess = transforms.Compose([\n",
    "    transforms.Resize(256),\n",
    "    transforms.CenterCrop(224),\n",
    "    transforms.ToTensor(),\n",
    "    transforms.Normalize(mean=[0.485, 0.456, 0.406], std=[0.229, 0.224, 0.225]),\n",
    "])"
   ]
  },
  {
   "cell_type": "code",
   "execution_count": 45,
   "metadata": {
    "Collapsed": "false"
   },
   "outputs": [
    {
     "name": "stdout",
     "output_type": "stream",
     "text": [
      "What percentage in dog_files are successfully detected a dog face?: 0.996\n"
     ]
    }
   ],
   "source": [
    "dog_files_dog_detector_results = [dog_detector(mobilenet, preprocess, dog_files[choice]) for choice in choices]\n",
    "print(f'What percentage in dog_files are successfully detected a dog face?: {sum(dog_files_dog_detector_results) / num_choice}')"
   ]
  },
  {
   "cell_type": "markdown",
   "metadata": {
    "Collapsed": "false"
   },
   "source": [
    "## Dog Breed Classifier"
   ]
  },
  {
   "cell_type": "code",
   "execution_count": 10,
   "metadata": {
    "Collapsed": "false"
   },
   "outputs": [
    {
     "name": "stdout",
     "output_type": "stream",
     "text": [
      "Total number of classes: 133\n"
     ]
    }
   ],
   "source": [
    "ImageFile.LOAD_TRUNCATED_IMAGES = True\n",
    "\n",
    "preprocess = transforms.Compose([\n",
    "    transforms.Resize(256),\n",
    "    transforms.CenterCrop(224),\n",
    "    transforms.ToTensor(),\n",
    "    transforms.Normalize(mean=[0.485, 0.456, 0.406], std=[0.229, 0.224, 0.225]),\n",
    "])\n",
    "\n",
    "train_dataset = datasets.ImageFolder('dogImages/train', transform=preprocess)\n",
    "class_names = [f[4:].replace('_', ' ') for f in train_dataset.classes]\n",
    "print(f'Total number of classes: {len(class_names)}')"
   ]
  },
  {
   "cell_type": "code",
   "execution_count": 141,
   "metadata": {
    "Collapsed": "false",
    "collapsed": true,
    "jupyter": {
     "outputs_hidden": true
    }
   },
   "outputs": [
    {
     "data": {
      "text/plain": [
       "['Affenpinscher',\n",
       " 'Afghan hound',\n",
       " 'Airedale terrier',\n",
       " 'Akita',\n",
       " 'Alaskan malamute',\n",
       " 'American eskimo dog',\n",
       " 'American foxhound',\n",
       " 'American staffordshire terrier',\n",
       " 'American water spaniel',\n",
       " 'Anatolian shepherd dog',\n",
       " 'Australian cattle dog',\n",
       " 'Australian shepherd',\n",
       " 'Australian terrier',\n",
       " 'Basenji',\n",
       " 'Basset hound',\n",
       " 'Beagle',\n",
       " 'Bearded collie',\n",
       " 'Beauceron',\n",
       " 'Bedlington terrier',\n",
       " 'Belgian malinois',\n",
       " 'Belgian sheepdog',\n",
       " 'Belgian tervuren',\n",
       " 'Bernese mountain dog',\n",
       " 'Bichon frise',\n",
       " 'Black and tan coonhound',\n",
       " 'Black russian terrier',\n",
       " 'Bloodhound',\n",
       " 'Bluetick coonhound',\n",
       " 'Border collie',\n",
       " 'Border terrier',\n",
       " 'Borzoi',\n",
       " 'Boston terrier',\n",
       " 'Bouvier des flandres',\n",
       " 'Boxer',\n",
       " 'Boykin spaniel',\n",
       " 'Briard',\n",
       " 'Brittany',\n",
       " 'Brussels griffon',\n",
       " 'Bull terrier',\n",
       " 'Bulldog',\n",
       " 'Bullmastiff',\n",
       " 'Cairn terrier',\n",
       " 'Canaan dog',\n",
       " 'Cane corso',\n",
       " 'Cardigan welsh corgi',\n",
       " 'Cavalier king charles spaniel',\n",
       " 'Chesapeake bay retriever',\n",
       " 'Chihuahua',\n",
       " 'Chinese crested',\n",
       " 'Chinese shar-pei',\n",
       " 'Chow chow',\n",
       " 'Clumber spaniel',\n",
       " 'Cocker spaniel',\n",
       " 'Collie',\n",
       " 'Curly-coated retriever',\n",
       " 'Dachshund',\n",
       " 'Dalmatian',\n",
       " 'Dandie dinmont terrier',\n",
       " 'Doberman pinscher',\n",
       " 'Dogue de bordeaux',\n",
       " 'English cocker spaniel',\n",
       " 'English setter',\n",
       " 'English springer spaniel',\n",
       " 'English toy spaniel',\n",
       " 'Entlebucher mountain dog',\n",
       " 'Field spaniel',\n",
       " 'Finnish spitz',\n",
       " 'Flat-coated retriever',\n",
       " 'French bulldog',\n",
       " 'German pinscher',\n",
       " 'German shepherd dog',\n",
       " 'German shorthaired pointer',\n",
       " 'German wirehaired pointer',\n",
       " 'Giant schnauzer',\n",
       " 'Glen of imaal terrier',\n",
       " 'Golden retriever',\n",
       " 'Gordon setter',\n",
       " 'Great dane',\n",
       " 'Great pyrenees',\n",
       " 'Greater swiss mountain dog',\n",
       " 'Greyhound',\n",
       " 'Havanese',\n",
       " 'Ibizan hound',\n",
       " 'Icelandic sheepdog',\n",
       " 'Irish red and white setter',\n",
       " 'Irish setter',\n",
       " 'Irish terrier',\n",
       " 'Irish water spaniel',\n",
       " 'Irish wolfhound',\n",
       " 'Italian greyhound',\n",
       " 'Japanese chin',\n",
       " 'Keeshond',\n",
       " 'Kerry blue terrier',\n",
       " 'Komondor',\n",
       " 'Kuvasz',\n",
       " 'Labrador retriever',\n",
       " 'Lakeland terrier',\n",
       " 'Leonberger',\n",
       " 'Lhasa apso',\n",
       " 'Lowchen',\n",
       " 'Maltese',\n",
       " 'Manchester terrier',\n",
       " 'Mastiff',\n",
       " 'Miniature schnauzer',\n",
       " 'Neapolitan mastiff',\n",
       " 'Newfoundland',\n",
       " 'Norfolk terrier',\n",
       " 'Norwegian buhund',\n",
       " 'Norwegian elkhound',\n",
       " 'Norwegian lundehund',\n",
       " 'Norwich terrier',\n",
       " 'Nova scotia duck tolling retriever',\n",
       " 'Old english sheepdog',\n",
       " 'Otterhound',\n",
       " 'Papillon',\n",
       " 'Parson russell terrier',\n",
       " 'Pekingese',\n",
       " 'Pembroke welsh corgi',\n",
       " 'Petit basset griffon vendeen',\n",
       " 'Pharaoh hound',\n",
       " 'Plott',\n",
       " 'Pointer',\n",
       " 'Pomeranian',\n",
       " 'Poodle',\n",
       " 'Portuguese water dog',\n",
       " 'Saint bernard',\n",
       " 'Silky terrier',\n",
       " 'Smooth fox terrier',\n",
       " 'Tibetan mastiff',\n",
       " 'Welsh springer spaniel',\n",
       " 'Wirehaired pointing griffon',\n",
       " 'Xoloitzcuintli',\n",
       " 'Yorkshire terrier']"
      ]
     },
     "execution_count": 141,
     "metadata": {},
     "output_type": "execute_result"
    }
   ],
   "source": [
    "class_names"
   ]
  },
  {
   "cell_type": "markdown",
   "metadata": {
    "Collapsed": "false"
   },
   "source": [
    "Retreive pretrained model weights from Google Cloud Storage"
   ]
  },
  {
   "cell_type": "code",
   "execution_count": 11,
   "metadata": {
    "Collapsed": "false"
   },
   "outputs": [
    {
     "name": "stdout",
     "output_type": "stream",
     "text": [
      "CommandException: No URLs matched: gs://dog-breed-classifier/models/model_transfer.pt\n"
     ]
    }
   ],
   "source": [
    "!gsutil cp gs://dog-breed-classifier/models/model_transfer.pt ."
   ]
  },
  {
   "cell_type": "code",
   "execution_count": 12,
   "metadata": {
    "Collapsed": "false",
    "collapsed": true,
    "jupyter": {
     "outputs_hidden": true
    }
   },
   "outputs": [
    {
     "data": {
      "text/plain": [
       "ResNetV2(\n",
       "  (root): Sequential(\n",
       "    (conv): StdConv2d(3, 64, kernel_size=(7, 7), stride=(2, 2), padding=(3, 3), bias=False)\n",
       "    (pad): ConstantPad2d(padding=(1, 1, 1, 1), value=0)\n",
       "    (pool): MaxPool2d(kernel_size=3, stride=2, padding=0, dilation=1, ceil_mode=False)\n",
       "  )\n",
       "  (body): Sequential(\n",
       "    (block1): Sequential(\n",
       "      (unit01): PreActBottleneck(\n",
       "        (gn1): GroupNorm(32, 64, eps=1e-05, affine=True)\n",
       "        (conv1): StdConv2d(64, 64, kernel_size=(1, 1), stride=(1, 1), bias=False)\n",
       "        (gn2): GroupNorm(32, 64, eps=1e-05, affine=True)\n",
       "        (conv2): StdConv2d(64, 64, kernel_size=(3, 3), stride=(1, 1), padding=(1, 1), bias=False)\n",
       "        (gn3): GroupNorm(32, 64, eps=1e-05, affine=True)\n",
       "        (conv3): StdConv2d(64, 256, kernel_size=(1, 1), stride=(1, 1), bias=False)\n",
       "        (relu): ReLU(inplace=True)\n",
       "        (downsample): StdConv2d(64, 256, kernel_size=(1, 1), stride=(1, 1), bias=False)\n",
       "      )\n",
       "      (unit02): PreActBottleneck(\n",
       "        (gn1): GroupNorm(32, 256, eps=1e-05, affine=True)\n",
       "        (conv1): StdConv2d(256, 64, kernel_size=(1, 1), stride=(1, 1), bias=False)\n",
       "        (gn2): GroupNorm(32, 64, eps=1e-05, affine=True)\n",
       "        (conv2): StdConv2d(64, 64, kernel_size=(3, 3), stride=(1, 1), padding=(1, 1), bias=False)\n",
       "        (gn3): GroupNorm(32, 64, eps=1e-05, affine=True)\n",
       "        (conv3): StdConv2d(64, 256, kernel_size=(1, 1), stride=(1, 1), bias=False)\n",
       "        (relu): ReLU(inplace=True)\n",
       "      )\n",
       "      (unit03): PreActBottleneck(\n",
       "        (gn1): GroupNorm(32, 256, eps=1e-05, affine=True)\n",
       "        (conv1): StdConv2d(256, 64, kernel_size=(1, 1), stride=(1, 1), bias=False)\n",
       "        (gn2): GroupNorm(32, 64, eps=1e-05, affine=True)\n",
       "        (conv2): StdConv2d(64, 64, kernel_size=(3, 3), stride=(1, 1), padding=(1, 1), bias=False)\n",
       "        (gn3): GroupNorm(32, 64, eps=1e-05, affine=True)\n",
       "        (conv3): StdConv2d(64, 256, kernel_size=(1, 1), stride=(1, 1), bias=False)\n",
       "        (relu): ReLU(inplace=True)\n",
       "      )\n",
       "    )\n",
       "    (block2): Sequential(\n",
       "      (unit01): PreActBottleneck(\n",
       "        (gn1): GroupNorm(32, 256, eps=1e-05, affine=True)\n",
       "        (conv1): StdConv2d(256, 128, kernel_size=(1, 1), stride=(1, 1), bias=False)\n",
       "        (gn2): GroupNorm(32, 128, eps=1e-05, affine=True)\n",
       "        (conv2): StdConv2d(128, 128, kernel_size=(3, 3), stride=(2, 2), padding=(1, 1), bias=False)\n",
       "        (gn3): GroupNorm(32, 128, eps=1e-05, affine=True)\n",
       "        (conv3): StdConv2d(128, 512, kernel_size=(1, 1), stride=(1, 1), bias=False)\n",
       "        (relu): ReLU(inplace=True)\n",
       "        (downsample): StdConv2d(256, 512, kernel_size=(1, 1), stride=(2, 2), bias=False)\n",
       "      )\n",
       "      (unit02): PreActBottleneck(\n",
       "        (gn1): GroupNorm(32, 512, eps=1e-05, affine=True)\n",
       "        (conv1): StdConv2d(512, 128, kernel_size=(1, 1), stride=(1, 1), bias=False)\n",
       "        (gn2): GroupNorm(32, 128, eps=1e-05, affine=True)\n",
       "        (conv2): StdConv2d(128, 128, kernel_size=(3, 3), stride=(1, 1), padding=(1, 1), bias=False)\n",
       "        (gn3): GroupNorm(32, 128, eps=1e-05, affine=True)\n",
       "        (conv3): StdConv2d(128, 512, kernel_size=(1, 1), stride=(1, 1), bias=False)\n",
       "        (relu): ReLU(inplace=True)\n",
       "      )\n",
       "      (unit03): PreActBottleneck(\n",
       "        (gn1): GroupNorm(32, 512, eps=1e-05, affine=True)\n",
       "        (conv1): StdConv2d(512, 128, kernel_size=(1, 1), stride=(1, 1), bias=False)\n",
       "        (gn2): GroupNorm(32, 128, eps=1e-05, affine=True)\n",
       "        (conv2): StdConv2d(128, 128, kernel_size=(3, 3), stride=(1, 1), padding=(1, 1), bias=False)\n",
       "        (gn3): GroupNorm(32, 128, eps=1e-05, affine=True)\n",
       "        (conv3): StdConv2d(128, 512, kernel_size=(1, 1), stride=(1, 1), bias=False)\n",
       "        (relu): ReLU(inplace=True)\n",
       "      )\n",
       "      (unit04): PreActBottleneck(\n",
       "        (gn1): GroupNorm(32, 512, eps=1e-05, affine=True)\n",
       "        (conv1): StdConv2d(512, 128, kernel_size=(1, 1), stride=(1, 1), bias=False)\n",
       "        (gn2): GroupNorm(32, 128, eps=1e-05, affine=True)\n",
       "        (conv2): StdConv2d(128, 128, kernel_size=(3, 3), stride=(1, 1), padding=(1, 1), bias=False)\n",
       "        (gn3): GroupNorm(32, 128, eps=1e-05, affine=True)\n",
       "        (conv3): StdConv2d(128, 512, kernel_size=(1, 1), stride=(1, 1), bias=False)\n",
       "        (relu): ReLU(inplace=True)\n",
       "      )\n",
       "    )\n",
       "    (block3): Sequential(\n",
       "      (unit01): PreActBottleneck(\n",
       "        (gn1): GroupNorm(32, 512, eps=1e-05, affine=True)\n",
       "        (conv1): StdConv2d(512, 256, kernel_size=(1, 1), stride=(1, 1), bias=False)\n",
       "        (gn2): GroupNorm(32, 256, eps=1e-05, affine=True)\n",
       "        (conv2): StdConv2d(256, 256, kernel_size=(3, 3), stride=(2, 2), padding=(1, 1), bias=False)\n",
       "        (gn3): GroupNorm(32, 256, eps=1e-05, affine=True)\n",
       "        (conv3): StdConv2d(256, 1024, kernel_size=(1, 1), stride=(1, 1), bias=False)\n",
       "        (relu): ReLU(inplace=True)\n",
       "        (downsample): StdConv2d(512, 1024, kernel_size=(1, 1), stride=(2, 2), bias=False)\n",
       "      )\n",
       "      (unit02): PreActBottleneck(\n",
       "        (gn1): GroupNorm(32, 1024, eps=1e-05, affine=True)\n",
       "        (conv1): StdConv2d(1024, 256, kernel_size=(1, 1), stride=(1, 1), bias=False)\n",
       "        (gn2): GroupNorm(32, 256, eps=1e-05, affine=True)\n",
       "        (conv2): StdConv2d(256, 256, kernel_size=(3, 3), stride=(1, 1), padding=(1, 1), bias=False)\n",
       "        (gn3): GroupNorm(32, 256, eps=1e-05, affine=True)\n",
       "        (conv3): StdConv2d(256, 1024, kernel_size=(1, 1), stride=(1, 1), bias=False)\n",
       "        (relu): ReLU(inplace=True)\n",
       "      )\n",
       "      (unit03): PreActBottleneck(\n",
       "        (gn1): GroupNorm(32, 1024, eps=1e-05, affine=True)\n",
       "        (conv1): StdConv2d(1024, 256, kernel_size=(1, 1), stride=(1, 1), bias=False)\n",
       "        (gn2): GroupNorm(32, 256, eps=1e-05, affine=True)\n",
       "        (conv2): StdConv2d(256, 256, kernel_size=(3, 3), stride=(1, 1), padding=(1, 1), bias=False)\n",
       "        (gn3): GroupNorm(32, 256, eps=1e-05, affine=True)\n",
       "        (conv3): StdConv2d(256, 1024, kernel_size=(1, 1), stride=(1, 1), bias=False)\n",
       "        (relu): ReLU(inplace=True)\n",
       "      )\n",
       "      (unit04): PreActBottleneck(\n",
       "        (gn1): GroupNorm(32, 1024, eps=1e-05, affine=True)\n",
       "        (conv1): StdConv2d(1024, 256, kernel_size=(1, 1), stride=(1, 1), bias=False)\n",
       "        (gn2): GroupNorm(32, 256, eps=1e-05, affine=True)\n",
       "        (conv2): StdConv2d(256, 256, kernel_size=(3, 3), stride=(1, 1), padding=(1, 1), bias=False)\n",
       "        (gn3): GroupNorm(32, 256, eps=1e-05, affine=True)\n",
       "        (conv3): StdConv2d(256, 1024, kernel_size=(1, 1), stride=(1, 1), bias=False)\n",
       "        (relu): ReLU(inplace=True)\n",
       "      )\n",
       "      (unit05): PreActBottleneck(\n",
       "        (gn1): GroupNorm(32, 1024, eps=1e-05, affine=True)\n",
       "        (conv1): StdConv2d(1024, 256, kernel_size=(1, 1), stride=(1, 1), bias=False)\n",
       "        (gn2): GroupNorm(32, 256, eps=1e-05, affine=True)\n",
       "        (conv2): StdConv2d(256, 256, kernel_size=(3, 3), stride=(1, 1), padding=(1, 1), bias=False)\n",
       "        (gn3): GroupNorm(32, 256, eps=1e-05, affine=True)\n",
       "        (conv3): StdConv2d(256, 1024, kernel_size=(1, 1), stride=(1, 1), bias=False)\n",
       "        (relu): ReLU(inplace=True)\n",
       "      )\n",
       "      (unit06): PreActBottleneck(\n",
       "        (gn1): GroupNorm(32, 1024, eps=1e-05, affine=True)\n",
       "        (conv1): StdConv2d(1024, 256, kernel_size=(1, 1), stride=(1, 1), bias=False)\n",
       "        (gn2): GroupNorm(32, 256, eps=1e-05, affine=True)\n",
       "        (conv2): StdConv2d(256, 256, kernel_size=(3, 3), stride=(1, 1), padding=(1, 1), bias=False)\n",
       "        (gn3): GroupNorm(32, 256, eps=1e-05, affine=True)\n",
       "        (conv3): StdConv2d(256, 1024, kernel_size=(1, 1), stride=(1, 1), bias=False)\n",
       "        (relu): ReLU(inplace=True)\n",
       "      )\n",
       "      (unit07): PreActBottleneck(\n",
       "        (gn1): GroupNorm(32, 1024, eps=1e-05, affine=True)\n",
       "        (conv1): StdConv2d(1024, 256, kernel_size=(1, 1), stride=(1, 1), bias=False)\n",
       "        (gn2): GroupNorm(32, 256, eps=1e-05, affine=True)\n",
       "        (conv2): StdConv2d(256, 256, kernel_size=(3, 3), stride=(1, 1), padding=(1, 1), bias=False)\n",
       "        (gn3): GroupNorm(32, 256, eps=1e-05, affine=True)\n",
       "        (conv3): StdConv2d(256, 1024, kernel_size=(1, 1), stride=(1, 1), bias=False)\n",
       "        (relu): ReLU(inplace=True)\n",
       "      )\n",
       "      (unit08): PreActBottleneck(\n",
       "        (gn1): GroupNorm(32, 1024, eps=1e-05, affine=True)\n",
       "        (conv1): StdConv2d(1024, 256, kernel_size=(1, 1), stride=(1, 1), bias=False)\n",
       "        (gn2): GroupNorm(32, 256, eps=1e-05, affine=True)\n",
       "        (conv2): StdConv2d(256, 256, kernel_size=(3, 3), stride=(1, 1), padding=(1, 1), bias=False)\n",
       "        (gn3): GroupNorm(32, 256, eps=1e-05, affine=True)\n",
       "        (conv3): StdConv2d(256, 1024, kernel_size=(1, 1), stride=(1, 1), bias=False)\n",
       "        (relu): ReLU(inplace=True)\n",
       "      )\n",
       "      (unit09): PreActBottleneck(\n",
       "        (gn1): GroupNorm(32, 1024, eps=1e-05, affine=True)\n",
       "        (conv1): StdConv2d(1024, 256, kernel_size=(1, 1), stride=(1, 1), bias=False)\n",
       "        (gn2): GroupNorm(32, 256, eps=1e-05, affine=True)\n",
       "        (conv2): StdConv2d(256, 256, kernel_size=(3, 3), stride=(1, 1), padding=(1, 1), bias=False)\n",
       "        (gn3): GroupNorm(32, 256, eps=1e-05, affine=True)\n",
       "        (conv3): StdConv2d(256, 1024, kernel_size=(1, 1), stride=(1, 1), bias=False)\n",
       "        (relu): ReLU(inplace=True)\n",
       "      )\n",
       "      (unit10): PreActBottleneck(\n",
       "        (gn1): GroupNorm(32, 1024, eps=1e-05, affine=True)\n",
       "        (conv1): StdConv2d(1024, 256, kernel_size=(1, 1), stride=(1, 1), bias=False)\n",
       "        (gn2): GroupNorm(32, 256, eps=1e-05, affine=True)\n",
       "        (conv2): StdConv2d(256, 256, kernel_size=(3, 3), stride=(1, 1), padding=(1, 1), bias=False)\n",
       "        (gn3): GroupNorm(32, 256, eps=1e-05, affine=True)\n",
       "        (conv3): StdConv2d(256, 1024, kernel_size=(1, 1), stride=(1, 1), bias=False)\n",
       "        (relu): ReLU(inplace=True)\n",
       "      )\n",
       "      (unit11): PreActBottleneck(\n",
       "        (gn1): GroupNorm(32, 1024, eps=1e-05, affine=True)\n",
       "        (conv1): StdConv2d(1024, 256, kernel_size=(1, 1), stride=(1, 1), bias=False)\n",
       "        (gn2): GroupNorm(32, 256, eps=1e-05, affine=True)\n",
       "        (conv2): StdConv2d(256, 256, kernel_size=(3, 3), stride=(1, 1), padding=(1, 1), bias=False)\n",
       "        (gn3): GroupNorm(32, 256, eps=1e-05, affine=True)\n",
       "        (conv3): StdConv2d(256, 1024, kernel_size=(1, 1), stride=(1, 1), bias=False)\n",
       "        (relu): ReLU(inplace=True)\n",
       "      )\n",
       "      (unit12): PreActBottleneck(\n",
       "        (gn1): GroupNorm(32, 1024, eps=1e-05, affine=True)\n",
       "        (conv1): StdConv2d(1024, 256, kernel_size=(1, 1), stride=(1, 1), bias=False)\n",
       "        (gn2): GroupNorm(32, 256, eps=1e-05, affine=True)\n",
       "        (conv2): StdConv2d(256, 256, kernel_size=(3, 3), stride=(1, 1), padding=(1, 1), bias=False)\n",
       "        (gn3): GroupNorm(32, 256, eps=1e-05, affine=True)\n",
       "        (conv3): StdConv2d(256, 1024, kernel_size=(1, 1), stride=(1, 1), bias=False)\n",
       "        (relu): ReLU(inplace=True)\n",
       "      )\n",
       "      (unit13): PreActBottleneck(\n",
       "        (gn1): GroupNorm(32, 1024, eps=1e-05, affine=True)\n",
       "        (conv1): StdConv2d(1024, 256, kernel_size=(1, 1), stride=(1, 1), bias=False)\n",
       "        (gn2): GroupNorm(32, 256, eps=1e-05, affine=True)\n",
       "        (conv2): StdConv2d(256, 256, kernel_size=(3, 3), stride=(1, 1), padding=(1, 1), bias=False)\n",
       "        (gn3): GroupNorm(32, 256, eps=1e-05, affine=True)\n",
       "        (conv3): StdConv2d(256, 1024, kernel_size=(1, 1), stride=(1, 1), bias=False)\n",
       "        (relu): ReLU(inplace=True)\n",
       "      )\n",
       "      (unit14): PreActBottleneck(\n",
       "        (gn1): GroupNorm(32, 1024, eps=1e-05, affine=True)\n",
       "        (conv1): StdConv2d(1024, 256, kernel_size=(1, 1), stride=(1, 1), bias=False)\n",
       "        (gn2): GroupNorm(32, 256, eps=1e-05, affine=True)\n",
       "        (conv2): StdConv2d(256, 256, kernel_size=(3, 3), stride=(1, 1), padding=(1, 1), bias=False)\n",
       "        (gn3): GroupNorm(32, 256, eps=1e-05, affine=True)\n",
       "        (conv3): StdConv2d(256, 1024, kernel_size=(1, 1), stride=(1, 1), bias=False)\n",
       "        (relu): ReLU(inplace=True)\n",
       "      )\n",
       "      (unit15): PreActBottleneck(\n",
       "        (gn1): GroupNorm(32, 1024, eps=1e-05, affine=True)\n",
       "        (conv1): StdConv2d(1024, 256, kernel_size=(1, 1), stride=(1, 1), bias=False)\n",
       "        (gn2): GroupNorm(32, 256, eps=1e-05, affine=True)\n",
       "        (conv2): StdConv2d(256, 256, kernel_size=(3, 3), stride=(1, 1), padding=(1, 1), bias=False)\n",
       "        (gn3): GroupNorm(32, 256, eps=1e-05, affine=True)\n",
       "        (conv3): StdConv2d(256, 1024, kernel_size=(1, 1), stride=(1, 1), bias=False)\n",
       "        (relu): ReLU(inplace=True)\n",
       "      )\n",
       "      (unit16): PreActBottleneck(\n",
       "        (gn1): GroupNorm(32, 1024, eps=1e-05, affine=True)\n",
       "        (conv1): StdConv2d(1024, 256, kernel_size=(1, 1), stride=(1, 1), bias=False)\n",
       "        (gn2): GroupNorm(32, 256, eps=1e-05, affine=True)\n",
       "        (conv2): StdConv2d(256, 256, kernel_size=(3, 3), stride=(1, 1), padding=(1, 1), bias=False)\n",
       "        (gn3): GroupNorm(32, 256, eps=1e-05, affine=True)\n",
       "        (conv3): StdConv2d(256, 1024, kernel_size=(1, 1), stride=(1, 1), bias=False)\n",
       "        (relu): ReLU(inplace=True)\n",
       "      )\n",
       "      (unit17): PreActBottleneck(\n",
       "        (gn1): GroupNorm(32, 1024, eps=1e-05, affine=True)\n",
       "        (conv1): StdConv2d(1024, 256, kernel_size=(1, 1), stride=(1, 1), bias=False)\n",
       "        (gn2): GroupNorm(32, 256, eps=1e-05, affine=True)\n",
       "        (conv2): StdConv2d(256, 256, kernel_size=(3, 3), stride=(1, 1), padding=(1, 1), bias=False)\n",
       "        (gn3): GroupNorm(32, 256, eps=1e-05, affine=True)\n",
       "        (conv3): StdConv2d(256, 1024, kernel_size=(1, 1), stride=(1, 1), bias=False)\n",
       "        (relu): ReLU(inplace=True)\n",
       "      )\n",
       "      (unit18): PreActBottleneck(\n",
       "        (gn1): GroupNorm(32, 1024, eps=1e-05, affine=True)\n",
       "        (conv1): StdConv2d(1024, 256, kernel_size=(1, 1), stride=(1, 1), bias=False)\n",
       "        (gn2): GroupNorm(32, 256, eps=1e-05, affine=True)\n",
       "        (conv2): StdConv2d(256, 256, kernel_size=(3, 3), stride=(1, 1), padding=(1, 1), bias=False)\n",
       "        (gn3): GroupNorm(32, 256, eps=1e-05, affine=True)\n",
       "        (conv3): StdConv2d(256, 1024, kernel_size=(1, 1), stride=(1, 1), bias=False)\n",
       "        (relu): ReLU(inplace=True)\n",
       "      )\n",
       "      (unit19): PreActBottleneck(\n",
       "        (gn1): GroupNorm(32, 1024, eps=1e-05, affine=True)\n",
       "        (conv1): StdConv2d(1024, 256, kernel_size=(1, 1), stride=(1, 1), bias=False)\n",
       "        (gn2): GroupNorm(32, 256, eps=1e-05, affine=True)\n",
       "        (conv2): StdConv2d(256, 256, kernel_size=(3, 3), stride=(1, 1), padding=(1, 1), bias=False)\n",
       "        (gn3): GroupNorm(32, 256, eps=1e-05, affine=True)\n",
       "        (conv3): StdConv2d(256, 1024, kernel_size=(1, 1), stride=(1, 1), bias=False)\n",
       "        (relu): ReLU(inplace=True)\n",
       "      )\n",
       "      (unit20): PreActBottleneck(\n",
       "        (gn1): GroupNorm(32, 1024, eps=1e-05, affine=True)\n",
       "        (conv1): StdConv2d(1024, 256, kernel_size=(1, 1), stride=(1, 1), bias=False)\n",
       "        (gn2): GroupNorm(32, 256, eps=1e-05, affine=True)\n",
       "        (conv2): StdConv2d(256, 256, kernel_size=(3, 3), stride=(1, 1), padding=(1, 1), bias=False)\n",
       "        (gn3): GroupNorm(32, 256, eps=1e-05, affine=True)\n",
       "        (conv3): StdConv2d(256, 1024, kernel_size=(1, 1), stride=(1, 1), bias=False)\n",
       "        (relu): ReLU(inplace=True)\n",
       "      )\n",
       "      (unit21): PreActBottleneck(\n",
       "        (gn1): GroupNorm(32, 1024, eps=1e-05, affine=True)\n",
       "        (conv1): StdConv2d(1024, 256, kernel_size=(1, 1), stride=(1, 1), bias=False)\n",
       "        (gn2): GroupNorm(32, 256, eps=1e-05, affine=True)\n",
       "        (conv2): StdConv2d(256, 256, kernel_size=(3, 3), stride=(1, 1), padding=(1, 1), bias=False)\n",
       "        (gn3): GroupNorm(32, 256, eps=1e-05, affine=True)\n",
       "        (conv3): StdConv2d(256, 1024, kernel_size=(1, 1), stride=(1, 1), bias=False)\n",
       "        (relu): ReLU(inplace=True)\n",
       "      )\n",
       "      (unit22): PreActBottleneck(\n",
       "        (gn1): GroupNorm(32, 1024, eps=1e-05, affine=True)\n",
       "        (conv1): StdConv2d(1024, 256, kernel_size=(1, 1), stride=(1, 1), bias=False)\n",
       "        (gn2): GroupNorm(32, 256, eps=1e-05, affine=True)\n",
       "        (conv2): StdConv2d(256, 256, kernel_size=(3, 3), stride=(1, 1), padding=(1, 1), bias=False)\n",
       "        (gn3): GroupNorm(32, 256, eps=1e-05, affine=True)\n",
       "        (conv3): StdConv2d(256, 1024, kernel_size=(1, 1), stride=(1, 1), bias=False)\n",
       "        (relu): ReLU(inplace=True)\n",
       "      )\n",
       "      (unit23): PreActBottleneck(\n",
       "        (gn1): GroupNorm(32, 1024, eps=1e-05, affine=True)\n",
       "        (conv1): StdConv2d(1024, 256, kernel_size=(1, 1), stride=(1, 1), bias=False)\n",
       "        (gn2): GroupNorm(32, 256, eps=1e-05, affine=True)\n",
       "        (conv2): StdConv2d(256, 256, kernel_size=(3, 3), stride=(1, 1), padding=(1, 1), bias=False)\n",
       "        (gn3): GroupNorm(32, 256, eps=1e-05, affine=True)\n",
       "        (conv3): StdConv2d(256, 1024, kernel_size=(1, 1), stride=(1, 1), bias=False)\n",
       "        (relu): ReLU(inplace=True)\n",
       "      )\n",
       "    )\n",
       "    (block4): Sequential(\n",
       "      (unit01): PreActBottleneck(\n",
       "        (gn1): GroupNorm(32, 1024, eps=1e-05, affine=True)\n",
       "        (conv1): StdConv2d(1024, 512, kernel_size=(1, 1), stride=(1, 1), bias=False)\n",
       "        (gn2): GroupNorm(32, 512, eps=1e-05, affine=True)\n",
       "        (conv2): StdConv2d(512, 512, kernel_size=(3, 3), stride=(2, 2), padding=(1, 1), bias=False)\n",
       "        (gn3): GroupNorm(32, 512, eps=1e-05, affine=True)\n",
       "        (conv3): StdConv2d(512, 2048, kernel_size=(1, 1), stride=(1, 1), bias=False)\n",
       "        (relu): ReLU(inplace=True)\n",
       "        (downsample): StdConv2d(1024, 2048, kernel_size=(1, 1), stride=(2, 2), bias=False)\n",
       "      )\n",
       "      (unit02): PreActBottleneck(\n",
       "        (gn1): GroupNorm(32, 2048, eps=1e-05, affine=True)\n",
       "        (conv1): StdConv2d(2048, 512, kernel_size=(1, 1), stride=(1, 1), bias=False)\n",
       "        (gn2): GroupNorm(32, 512, eps=1e-05, affine=True)\n",
       "        (conv2): StdConv2d(512, 512, kernel_size=(3, 3), stride=(1, 1), padding=(1, 1), bias=False)\n",
       "        (gn3): GroupNorm(32, 512, eps=1e-05, affine=True)\n",
       "        (conv3): StdConv2d(512, 2048, kernel_size=(1, 1), stride=(1, 1), bias=False)\n",
       "        (relu): ReLU(inplace=True)\n",
       "      )\n",
       "      (unit03): PreActBottleneck(\n",
       "        (gn1): GroupNorm(32, 2048, eps=1e-05, affine=True)\n",
       "        (conv1): StdConv2d(2048, 512, kernel_size=(1, 1), stride=(1, 1), bias=False)\n",
       "        (gn2): GroupNorm(32, 512, eps=1e-05, affine=True)\n",
       "        (conv2): StdConv2d(512, 512, kernel_size=(3, 3), stride=(1, 1), padding=(1, 1), bias=False)\n",
       "        (gn3): GroupNorm(32, 512, eps=1e-05, affine=True)\n",
       "        (conv3): StdConv2d(512, 2048, kernel_size=(1, 1), stride=(1, 1), bias=False)\n",
       "        (relu): ReLU(inplace=True)\n",
       "      )\n",
       "    )\n",
       "  )\n",
       "  (head): Sequential(\n",
       "    (gn): GroupNorm(32, 2048, eps=1e-05, affine=True)\n",
       "    (relu): ReLU(inplace=True)\n",
       "    (avg): AdaptiveAvgPool2d(output_size=1)\n",
       "    (conv): Conv2d(2048, 133, kernel_size=(1, 1), stride=(1, 1))\n",
       "  )\n",
       ")"
      ]
     },
     "execution_count": 12,
     "metadata": {},
     "output_type": "execute_result"
    }
   ],
   "source": [
    "BiT_M_R101_1 = ResNetV2([3, 4, 23, 3], width_factor=1, head_size=133, zero_head=True)\n",
    "device = torch.device('cpu')\n",
    "BiT_M_R101_1.load_state_dict(torch.load('model_transfer.pt', map_location=device))\n",
    "BiT_M_R101_1 = BiT_M_R101_1.eval()"
   ]
  },
  {
   "cell_type": "markdown",
   "metadata": {
    "Collapsed": "false"
   },
   "source": [
    "Model summary"
   ]
  },
  {
   "cell_type": "code",
   "execution_count": 13,
   "metadata": {
    "Collapsed": "false",
    "collapsed": true,
    "jupyter": {
     "outputs_hidden": true
    }
   },
   "outputs": [
    {
     "name": "stdout",
     "output_type": "stream",
     "text": [
      "----------------------------------------------------------------\n",
      "        Layer (type)               Output Shape         Param #\n",
      "================================================================\n",
      "         StdConv2d-1         [-1, 64, 112, 112]           9,408\n",
      "     ConstantPad2d-2         [-1, 64, 114, 114]               0\n",
      "         MaxPool2d-3           [-1, 64, 56, 56]               0\n",
      "         GroupNorm-4           [-1, 64, 56, 56]             128\n",
      "              ReLU-5           [-1, 64, 56, 56]               0\n",
      "         StdConv2d-6          [-1, 256, 56, 56]          16,384\n",
      "         StdConv2d-7           [-1, 64, 56, 56]           4,096\n",
      "         GroupNorm-8           [-1, 64, 56, 56]             128\n",
      "              ReLU-9           [-1, 64, 56, 56]               0\n",
      "        StdConv2d-10           [-1, 64, 56, 56]          36,864\n",
      "        GroupNorm-11           [-1, 64, 56, 56]             128\n",
      "             ReLU-12           [-1, 64, 56, 56]               0\n",
      "        StdConv2d-13          [-1, 256, 56, 56]          16,384\n",
      " PreActBottleneck-14          [-1, 256, 56, 56]               0\n",
      "        GroupNorm-15          [-1, 256, 56, 56]             512\n",
      "             ReLU-16          [-1, 256, 56, 56]               0\n",
      "        StdConv2d-17           [-1, 64, 56, 56]          16,384\n",
      "        GroupNorm-18           [-1, 64, 56, 56]             128\n",
      "             ReLU-19           [-1, 64, 56, 56]               0\n",
      "        StdConv2d-20           [-1, 64, 56, 56]          36,864\n",
      "        GroupNorm-21           [-1, 64, 56, 56]             128\n",
      "             ReLU-22           [-1, 64, 56, 56]               0\n",
      "        StdConv2d-23          [-1, 256, 56, 56]          16,384\n",
      " PreActBottleneck-24          [-1, 256, 56, 56]               0\n",
      "        GroupNorm-25          [-1, 256, 56, 56]             512\n",
      "             ReLU-26          [-1, 256, 56, 56]               0\n",
      "        StdConv2d-27           [-1, 64, 56, 56]          16,384\n",
      "        GroupNorm-28           [-1, 64, 56, 56]             128\n",
      "             ReLU-29           [-1, 64, 56, 56]               0\n",
      "        StdConv2d-30           [-1, 64, 56, 56]          36,864\n",
      "        GroupNorm-31           [-1, 64, 56, 56]             128\n",
      "             ReLU-32           [-1, 64, 56, 56]               0\n",
      "        StdConv2d-33          [-1, 256, 56, 56]          16,384\n",
      " PreActBottleneck-34          [-1, 256, 56, 56]               0\n",
      "        GroupNorm-35          [-1, 256, 56, 56]             512\n",
      "             ReLU-36          [-1, 256, 56, 56]               0\n",
      "        StdConv2d-37          [-1, 512, 28, 28]         131,072\n",
      "        StdConv2d-38          [-1, 128, 56, 56]          32,768\n",
      "        GroupNorm-39          [-1, 128, 56, 56]             256\n",
      "             ReLU-40          [-1, 128, 56, 56]               0\n",
      "        StdConv2d-41          [-1, 128, 28, 28]         147,456\n",
      "        GroupNorm-42          [-1, 128, 28, 28]             256\n",
      "             ReLU-43          [-1, 128, 28, 28]               0\n",
      "        StdConv2d-44          [-1, 512, 28, 28]          65,536\n",
      " PreActBottleneck-45          [-1, 512, 28, 28]               0\n",
      "        GroupNorm-46          [-1, 512, 28, 28]           1,024\n",
      "             ReLU-47          [-1, 512, 28, 28]               0\n",
      "        StdConv2d-48          [-1, 128, 28, 28]          65,536\n",
      "        GroupNorm-49          [-1, 128, 28, 28]             256\n",
      "             ReLU-50          [-1, 128, 28, 28]               0\n",
      "        StdConv2d-51          [-1, 128, 28, 28]         147,456\n",
      "        GroupNorm-52          [-1, 128, 28, 28]             256\n",
      "             ReLU-53          [-1, 128, 28, 28]               0\n",
      "        StdConv2d-54          [-1, 512, 28, 28]          65,536\n",
      " PreActBottleneck-55          [-1, 512, 28, 28]               0\n",
      "        GroupNorm-56          [-1, 512, 28, 28]           1,024\n",
      "             ReLU-57          [-1, 512, 28, 28]               0\n",
      "        StdConv2d-58          [-1, 128, 28, 28]          65,536\n",
      "        GroupNorm-59          [-1, 128, 28, 28]             256\n",
      "             ReLU-60          [-1, 128, 28, 28]               0\n",
      "        StdConv2d-61          [-1, 128, 28, 28]         147,456\n",
      "        GroupNorm-62          [-1, 128, 28, 28]             256\n",
      "             ReLU-63          [-1, 128, 28, 28]               0\n",
      "        StdConv2d-64          [-1, 512, 28, 28]          65,536\n",
      " PreActBottleneck-65          [-1, 512, 28, 28]               0\n",
      "        GroupNorm-66          [-1, 512, 28, 28]           1,024\n",
      "             ReLU-67          [-1, 512, 28, 28]               0\n",
      "        StdConv2d-68          [-1, 128, 28, 28]          65,536\n",
      "        GroupNorm-69          [-1, 128, 28, 28]             256\n",
      "             ReLU-70          [-1, 128, 28, 28]               0\n",
      "        StdConv2d-71          [-1, 128, 28, 28]         147,456\n",
      "        GroupNorm-72          [-1, 128, 28, 28]             256\n",
      "             ReLU-73          [-1, 128, 28, 28]               0\n",
      "        StdConv2d-74          [-1, 512, 28, 28]          65,536\n",
      " PreActBottleneck-75          [-1, 512, 28, 28]               0\n",
      "        GroupNorm-76          [-1, 512, 28, 28]           1,024\n",
      "             ReLU-77          [-1, 512, 28, 28]               0\n",
      "        StdConv2d-78         [-1, 1024, 14, 14]         524,288\n",
      "        StdConv2d-79          [-1, 256, 28, 28]         131,072\n",
      "        GroupNorm-80          [-1, 256, 28, 28]             512\n",
      "             ReLU-81          [-1, 256, 28, 28]               0\n",
      "        StdConv2d-82          [-1, 256, 14, 14]         589,824\n",
      "        GroupNorm-83          [-1, 256, 14, 14]             512\n",
      "             ReLU-84          [-1, 256, 14, 14]               0\n",
      "        StdConv2d-85         [-1, 1024, 14, 14]         262,144\n",
      " PreActBottleneck-86         [-1, 1024, 14, 14]               0\n",
      "        GroupNorm-87         [-1, 1024, 14, 14]           2,048\n",
      "             ReLU-88         [-1, 1024, 14, 14]               0\n",
      "        StdConv2d-89          [-1, 256, 14, 14]         262,144\n",
      "        GroupNorm-90          [-1, 256, 14, 14]             512\n",
      "             ReLU-91          [-1, 256, 14, 14]               0\n",
      "        StdConv2d-92          [-1, 256, 14, 14]         589,824\n",
      "        GroupNorm-93          [-1, 256, 14, 14]             512\n",
      "             ReLU-94          [-1, 256, 14, 14]               0\n",
      "        StdConv2d-95         [-1, 1024, 14, 14]         262,144\n",
      " PreActBottleneck-96         [-1, 1024, 14, 14]               0\n",
      "        GroupNorm-97         [-1, 1024, 14, 14]           2,048\n",
      "             ReLU-98         [-1, 1024, 14, 14]               0\n",
      "        StdConv2d-99          [-1, 256, 14, 14]         262,144\n",
      "       GroupNorm-100          [-1, 256, 14, 14]             512\n",
      "            ReLU-101          [-1, 256, 14, 14]               0\n",
      "       StdConv2d-102          [-1, 256, 14, 14]         589,824\n",
      "       GroupNorm-103          [-1, 256, 14, 14]             512\n",
      "            ReLU-104          [-1, 256, 14, 14]               0\n",
      "       StdConv2d-105         [-1, 1024, 14, 14]         262,144\n",
      "PreActBottleneck-106         [-1, 1024, 14, 14]               0\n",
      "       GroupNorm-107         [-1, 1024, 14, 14]           2,048\n",
      "            ReLU-108         [-1, 1024, 14, 14]               0\n",
      "       StdConv2d-109          [-1, 256, 14, 14]         262,144\n",
      "       GroupNorm-110          [-1, 256, 14, 14]             512\n",
      "            ReLU-111          [-1, 256, 14, 14]               0\n",
      "       StdConv2d-112          [-1, 256, 14, 14]         589,824\n",
      "       GroupNorm-113          [-1, 256, 14, 14]             512\n",
      "            ReLU-114          [-1, 256, 14, 14]               0\n",
      "       StdConv2d-115         [-1, 1024, 14, 14]         262,144\n",
      "PreActBottleneck-116         [-1, 1024, 14, 14]               0\n",
      "       GroupNorm-117         [-1, 1024, 14, 14]           2,048\n",
      "            ReLU-118         [-1, 1024, 14, 14]               0\n",
      "       StdConv2d-119          [-1, 256, 14, 14]         262,144\n",
      "       GroupNorm-120          [-1, 256, 14, 14]             512\n",
      "            ReLU-121          [-1, 256, 14, 14]               0\n",
      "       StdConv2d-122          [-1, 256, 14, 14]         589,824\n",
      "       GroupNorm-123          [-1, 256, 14, 14]             512\n",
      "            ReLU-124          [-1, 256, 14, 14]               0\n",
      "       StdConv2d-125         [-1, 1024, 14, 14]         262,144\n",
      "PreActBottleneck-126         [-1, 1024, 14, 14]               0\n",
      "       GroupNorm-127         [-1, 1024, 14, 14]           2,048\n",
      "            ReLU-128         [-1, 1024, 14, 14]               0\n",
      "       StdConv2d-129          [-1, 256, 14, 14]         262,144\n",
      "       GroupNorm-130          [-1, 256, 14, 14]             512\n",
      "            ReLU-131          [-1, 256, 14, 14]               0\n",
      "       StdConv2d-132          [-1, 256, 14, 14]         589,824\n",
      "       GroupNorm-133          [-1, 256, 14, 14]             512\n",
      "            ReLU-134          [-1, 256, 14, 14]               0\n",
      "       StdConv2d-135         [-1, 1024, 14, 14]         262,144\n",
      "PreActBottleneck-136         [-1, 1024, 14, 14]               0\n",
      "       GroupNorm-137         [-1, 1024, 14, 14]           2,048\n",
      "            ReLU-138         [-1, 1024, 14, 14]               0\n",
      "       StdConv2d-139          [-1, 256, 14, 14]         262,144\n",
      "       GroupNorm-140          [-1, 256, 14, 14]             512\n",
      "            ReLU-141          [-1, 256, 14, 14]               0\n",
      "       StdConv2d-142          [-1, 256, 14, 14]         589,824\n",
      "       GroupNorm-143          [-1, 256, 14, 14]             512\n",
      "            ReLU-144          [-1, 256, 14, 14]               0\n",
      "       StdConv2d-145         [-1, 1024, 14, 14]         262,144\n",
      "PreActBottleneck-146         [-1, 1024, 14, 14]               0\n",
      "       GroupNorm-147         [-1, 1024, 14, 14]           2,048\n",
      "            ReLU-148         [-1, 1024, 14, 14]               0\n",
      "       StdConv2d-149          [-1, 256, 14, 14]         262,144\n",
      "       GroupNorm-150          [-1, 256, 14, 14]             512\n",
      "            ReLU-151          [-1, 256, 14, 14]               0\n",
      "       StdConv2d-152          [-1, 256, 14, 14]         589,824\n",
      "       GroupNorm-153          [-1, 256, 14, 14]             512\n",
      "            ReLU-154          [-1, 256, 14, 14]               0\n",
      "       StdConv2d-155         [-1, 1024, 14, 14]         262,144\n",
      "PreActBottleneck-156         [-1, 1024, 14, 14]               0\n",
      "       GroupNorm-157         [-1, 1024, 14, 14]           2,048\n",
      "            ReLU-158         [-1, 1024, 14, 14]               0\n",
      "       StdConv2d-159          [-1, 256, 14, 14]         262,144\n",
      "       GroupNorm-160          [-1, 256, 14, 14]             512\n",
      "            ReLU-161          [-1, 256, 14, 14]               0\n",
      "       StdConv2d-162          [-1, 256, 14, 14]         589,824\n",
      "       GroupNorm-163          [-1, 256, 14, 14]             512\n",
      "            ReLU-164          [-1, 256, 14, 14]               0\n",
      "       StdConv2d-165         [-1, 1024, 14, 14]         262,144\n",
      "PreActBottleneck-166         [-1, 1024, 14, 14]               0\n",
      "       GroupNorm-167         [-1, 1024, 14, 14]           2,048\n",
      "            ReLU-168         [-1, 1024, 14, 14]               0\n",
      "       StdConv2d-169          [-1, 256, 14, 14]         262,144\n",
      "       GroupNorm-170          [-1, 256, 14, 14]             512\n",
      "            ReLU-171          [-1, 256, 14, 14]               0\n",
      "       StdConv2d-172          [-1, 256, 14, 14]         589,824\n",
      "       GroupNorm-173          [-1, 256, 14, 14]             512\n",
      "            ReLU-174          [-1, 256, 14, 14]               0\n",
      "       StdConv2d-175         [-1, 1024, 14, 14]         262,144\n",
      "PreActBottleneck-176         [-1, 1024, 14, 14]               0\n",
      "       GroupNorm-177         [-1, 1024, 14, 14]           2,048\n",
      "            ReLU-178         [-1, 1024, 14, 14]               0\n",
      "       StdConv2d-179          [-1, 256, 14, 14]         262,144\n",
      "       GroupNorm-180          [-1, 256, 14, 14]             512\n",
      "            ReLU-181          [-1, 256, 14, 14]               0\n",
      "       StdConv2d-182          [-1, 256, 14, 14]         589,824\n",
      "       GroupNorm-183          [-1, 256, 14, 14]             512\n",
      "            ReLU-184          [-1, 256, 14, 14]               0\n",
      "       StdConv2d-185         [-1, 1024, 14, 14]         262,144\n",
      "PreActBottleneck-186         [-1, 1024, 14, 14]               0\n",
      "       GroupNorm-187         [-1, 1024, 14, 14]           2,048\n",
      "            ReLU-188         [-1, 1024, 14, 14]               0\n",
      "       StdConv2d-189          [-1, 256, 14, 14]         262,144\n",
      "       GroupNorm-190          [-1, 256, 14, 14]             512\n",
      "            ReLU-191          [-1, 256, 14, 14]               0\n",
      "       StdConv2d-192          [-1, 256, 14, 14]         589,824\n",
      "       GroupNorm-193          [-1, 256, 14, 14]             512\n",
      "            ReLU-194          [-1, 256, 14, 14]               0\n",
      "       StdConv2d-195         [-1, 1024, 14, 14]         262,144\n",
      "PreActBottleneck-196         [-1, 1024, 14, 14]               0\n",
      "       GroupNorm-197         [-1, 1024, 14, 14]           2,048\n",
      "            ReLU-198         [-1, 1024, 14, 14]               0\n",
      "       StdConv2d-199          [-1, 256, 14, 14]         262,144\n",
      "       GroupNorm-200          [-1, 256, 14, 14]             512\n",
      "            ReLU-201          [-1, 256, 14, 14]               0\n",
      "       StdConv2d-202          [-1, 256, 14, 14]         589,824\n",
      "       GroupNorm-203          [-1, 256, 14, 14]             512\n",
      "            ReLU-204          [-1, 256, 14, 14]               0\n",
      "       StdConv2d-205         [-1, 1024, 14, 14]         262,144\n",
      "PreActBottleneck-206         [-1, 1024, 14, 14]               0\n",
      "       GroupNorm-207         [-1, 1024, 14, 14]           2,048\n",
      "            ReLU-208         [-1, 1024, 14, 14]               0\n",
      "       StdConv2d-209          [-1, 256, 14, 14]         262,144\n",
      "       GroupNorm-210          [-1, 256, 14, 14]             512\n",
      "            ReLU-211          [-1, 256, 14, 14]               0\n",
      "       StdConv2d-212          [-1, 256, 14, 14]         589,824\n",
      "       GroupNorm-213          [-1, 256, 14, 14]             512\n",
      "            ReLU-214          [-1, 256, 14, 14]               0\n",
      "       StdConv2d-215         [-1, 1024, 14, 14]         262,144\n",
      "PreActBottleneck-216         [-1, 1024, 14, 14]               0\n",
      "       GroupNorm-217         [-1, 1024, 14, 14]           2,048\n",
      "            ReLU-218         [-1, 1024, 14, 14]               0\n",
      "       StdConv2d-219          [-1, 256, 14, 14]         262,144\n",
      "       GroupNorm-220          [-1, 256, 14, 14]             512\n",
      "            ReLU-221          [-1, 256, 14, 14]               0\n",
      "       StdConv2d-222          [-1, 256, 14, 14]         589,824\n",
      "       GroupNorm-223          [-1, 256, 14, 14]             512\n",
      "            ReLU-224          [-1, 256, 14, 14]               0\n",
      "       StdConv2d-225         [-1, 1024, 14, 14]         262,144\n",
      "PreActBottleneck-226         [-1, 1024, 14, 14]               0\n",
      "       GroupNorm-227         [-1, 1024, 14, 14]           2,048\n",
      "            ReLU-228         [-1, 1024, 14, 14]               0\n",
      "       StdConv2d-229          [-1, 256, 14, 14]         262,144\n",
      "       GroupNorm-230          [-1, 256, 14, 14]             512\n",
      "            ReLU-231          [-1, 256, 14, 14]               0\n",
      "       StdConv2d-232          [-1, 256, 14, 14]         589,824\n",
      "       GroupNorm-233          [-1, 256, 14, 14]             512\n",
      "            ReLU-234          [-1, 256, 14, 14]               0\n",
      "       StdConv2d-235         [-1, 1024, 14, 14]         262,144\n",
      "PreActBottleneck-236         [-1, 1024, 14, 14]               0\n",
      "       GroupNorm-237         [-1, 1024, 14, 14]           2,048\n",
      "            ReLU-238         [-1, 1024, 14, 14]               0\n",
      "       StdConv2d-239          [-1, 256, 14, 14]         262,144\n",
      "       GroupNorm-240          [-1, 256, 14, 14]             512\n",
      "            ReLU-241          [-1, 256, 14, 14]               0\n",
      "       StdConv2d-242          [-1, 256, 14, 14]         589,824\n",
      "       GroupNorm-243          [-1, 256, 14, 14]             512\n",
      "            ReLU-244          [-1, 256, 14, 14]               0\n",
      "       StdConv2d-245         [-1, 1024, 14, 14]         262,144\n",
      "PreActBottleneck-246         [-1, 1024, 14, 14]               0\n",
      "       GroupNorm-247         [-1, 1024, 14, 14]           2,048\n",
      "            ReLU-248         [-1, 1024, 14, 14]               0\n",
      "       StdConv2d-249          [-1, 256, 14, 14]         262,144\n",
      "       GroupNorm-250          [-1, 256, 14, 14]             512\n",
      "            ReLU-251          [-1, 256, 14, 14]               0\n",
      "       StdConv2d-252          [-1, 256, 14, 14]         589,824\n",
      "       GroupNorm-253          [-1, 256, 14, 14]             512\n",
      "            ReLU-254          [-1, 256, 14, 14]               0\n",
      "       StdConv2d-255         [-1, 1024, 14, 14]         262,144\n",
      "PreActBottleneck-256         [-1, 1024, 14, 14]               0\n",
      "       GroupNorm-257         [-1, 1024, 14, 14]           2,048\n",
      "            ReLU-258         [-1, 1024, 14, 14]               0\n",
      "       StdConv2d-259          [-1, 256, 14, 14]         262,144\n",
      "       GroupNorm-260          [-1, 256, 14, 14]             512\n",
      "            ReLU-261          [-1, 256, 14, 14]               0\n",
      "       StdConv2d-262          [-1, 256, 14, 14]         589,824\n",
      "       GroupNorm-263          [-1, 256, 14, 14]             512\n",
      "            ReLU-264          [-1, 256, 14, 14]               0\n",
      "       StdConv2d-265         [-1, 1024, 14, 14]         262,144\n",
      "PreActBottleneck-266         [-1, 1024, 14, 14]               0\n",
      "       GroupNorm-267         [-1, 1024, 14, 14]           2,048\n",
      "            ReLU-268         [-1, 1024, 14, 14]               0\n",
      "       StdConv2d-269          [-1, 256, 14, 14]         262,144\n",
      "       GroupNorm-270          [-1, 256, 14, 14]             512\n",
      "            ReLU-271          [-1, 256, 14, 14]               0\n",
      "       StdConv2d-272          [-1, 256, 14, 14]         589,824\n",
      "       GroupNorm-273          [-1, 256, 14, 14]             512\n",
      "            ReLU-274          [-1, 256, 14, 14]               0\n",
      "       StdConv2d-275         [-1, 1024, 14, 14]         262,144\n",
      "PreActBottleneck-276         [-1, 1024, 14, 14]               0\n",
      "       GroupNorm-277         [-1, 1024, 14, 14]           2,048\n",
      "            ReLU-278         [-1, 1024, 14, 14]               0\n",
      "       StdConv2d-279          [-1, 256, 14, 14]         262,144\n",
      "       GroupNorm-280          [-1, 256, 14, 14]             512\n",
      "            ReLU-281          [-1, 256, 14, 14]               0\n",
      "       StdConv2d-282          [-1, 256, 14, 14]         589,824\n",
      "       GroupNorm-283          [-1, 256, 14, 14]             512\n",
      "            ReLU-284          [-1, 256, 14, 14]               0\n",
      "       StdConv2d-285         [-1, 1024, 14, 14]         262,144\n",
      "PreActBottleneck-286         [-1, 1024, 14, 14]               0\n",
      "       GroupNorm-287         [-1, 1024, 14, 14]           2,048\n",
      "            ReLU-288         [-1, 1024, 14, 14]               0\n",
      "       StdConv2d-289          [-1, 256, 14, 14]         262,144\n",
      "       GroupNorm-290          [-1, 256, 14, 14]             512\n",
      "            ReLU-291          [-1, 256, 14, 14]               0\n",
      "       StdConv2d-292          [-1, 256, 14, 14]         589,824\n",
      "       GroupNorm-293          [-1, 256, 14, 14]             512\n",
      "            ReLU-294          [-1, 256, 14, 14]               0\n",
      "       StdConv2d-295         [-1, 1024, 14, 14]         262,144\n",
      "PreActBottleneck-296         [-1, 1024, 14, 14]               0\n",
      "       GroupNorm-297         [-1, 1024, 14, 14]           2,048\n",
      "            ReLU-298         [-1, 1024, 14, 14]               0\n",
      "       StdConv2d-299          [-1, 256, 14, 14]         262,144\n",
      "       GroupNorm-300          [-1, 256, 14, 14]             512\n",
      "            ReLU-301          [-1, 256, 14, 14]               0\n",
      "       StdConv2d-302          [-1, 256, 14, 14]         589,824\n",
      "       GroupNorm-303          [-1, 256, 14, 14]             512\n",
      "            ReLU-304          [-1, 256, 14, 14]               0\n",
      "       StdConv2d-305         [-1, 1024, 14, 14]         262,144\n",
      "PreActBottleneck-306         [-1, 1024, 14, 14]               0\n",
      "       GroupNorm-307         [-1, 1024, 14, 14]           2,048\n",
      "            ReLU-308         [-1, 1024, 14, 14]               0\n",
      "       StdConv2d-309           [-1, 2048, 7, 7]       2,097,152\n",
      "       StdConv2d-310          [-1, 512, 14, 14]         524,288\n",
      "       GroupNorm-311          [-1, 512, 14, 14]           1,024\n",
      "            ReLU-312          [-1, 512, 14, 14]               0\n",
      "       StdConv2d-313            [-1, 512, 7, 7]       2,359,296\n",
      "       GroupNorm-314            [-1, 512, 7, 7]           1,024\n",
      "            ReLU-315            [-1, 512, 7, 7]               0\n",
      "       StdConv2d-316           [-1, 2048, 7, 7]       1,048,576\n",
      "PreActBottleneck-317           [-1, 2048, 7, 7]               0\n",
      "       GroupNorm-318           [-1, 2048, 7, 7]           4,096\n",
      "            ReLU-319           [-1, 2048, 7, 7]               0\n",
      "       StdConv2d-320            [-1, 512, 7, 7]       1,048,576\n",
      "       GroupNorm-321            [-1, 512, 7, 7]           1,024\n",
      "            ReLU-322            [-1, 512, 7, 7]               0\n",
      "       StdConv2d-323            [-1, 512, 7, 7]       2,359,296\n",
      "       GroupNorm-324            [-1, 512, 7, 7]           1,024\n",
      "            ReLU-325            [-1, 512, 7, 7]               0\n",
      "       StdConv2d-326           [-1, 2048, 7, 7]       1,048,576\n",
      "PreActBottleneck-327           [-1, 2048, 7, 7]               0\n",
      "       GroupNorm-328           [-1, 2048, 7, 7]           4,096\n",
      "            ReLU-329           [-1, 2048, 7, 7]               0\n",
      "       StdConv2d-330            [-1, 512, 7, 7]       1,048,576\n",
      "       GroupNorm-331            [-1, 512, 7, 7]           1,024\n",
      "            ReLU-332            [-1, 512, 7, 7]               0\n",
      "       StdConv2d-333            [-1, 512, 7, 7]       2,359,296\n",
      "       GroupNorm-334            [-1, 512, 7, 7]           1,024\n",
      "            ReLU-335            [-1, 512, 7, 7]               0\n",
      "       StdConv2d-336           [-1, 2048, 7, 7]       1,048,576\n",
      "PreActBottleneck-337           [-1, 2048, 7, 7]               0\n",
      "       GroupNorm-338           [-1, 2048, 7, 7]           4,096\n",
      "            ReLU-339           [-1, 2048, 7, 7]               0\n",
      "AdaptiveAvgPool2d-340           [-1, 2048, 1, 1]               0\n",
      "          Conv2d-341            [-1, 133, 1, 1]         272,517\n",
      "================================================================\n",
      "Total params: 42,764,997\n",
      "Trainable params: 42,764,997\n",
      "Non-trainable params: 0\n",
      "----------------------------------------------------------------\n",
      "Input size (MB): 0.57\n",
      "Forward/backward pass size (MB): 415.40\n",
      "Params size (MB): 163.14\n",
      "Estimated Total Size (MB): 579.11\n",
      "----------------------------------------------------------------\n"
     ]
    }
   ],
   "source": [
    "summary(BiT_M_R101_1, input_size=(3, 224, 224))"
   ]
  },
  {
   "cell_type": "code",
   "execution_count": 14,
   "metadata": {
    "Collapsed": "false"
   },
   "outputs": [],
   "source": [
    "def predict_top3_dog_breeds(img_path):\n",
    "    def get_class_name(classes):\n",
    "        return map(lambda x: class_names[x], classes)\n",
    "    \n",
    "    ImageFile.LOAD_TRUNCATED_IMAGES = True\n",
    "    \n",
    "    img = Image.open(img_path)\n",
    "    img_tensor = preprocess(img)\n",
    "    img_batch = img_tensor.unsqueeze(0)\n",
    "    \n",
    "    with torch.no_grad():\n",
    "        output = BiT_M_R101_1(img_batch)\n",
    "    \n",
    "    softmax = torch.nn.Softmax(dim=1) # to get probability distribution over all classes\n",
    "    softmax_output = softmax(output.data)\n",
    "    top3_pred_values, top3_pred_indices = torch.topk(softmax_output, 3)\n",
    "    top3_pred_prob =  np.squeeze(top3_pred_values).numpy()\n",
    "    top3_pred_classes = np.squeeze(top3_pred_indices).numpy()\n",
    "    \n",
    "    return list(zip(get_class_name(top3_pred_classes), top3_pred_prob))"
   ]
  },
  {
   "cell_type": "code",
   "execution_count": 15,
   "metadata": {
    "Collapsed": "false"
   },
   "outputs": [
    {
     "data": {
      "text/plain": [
       "[('Brittany', 0.9765796),\n",
       " ('Irish red and white setter', 0.008068973),\n",
       " ('Pointer', 0.0073480364)]"
      ]
     },
     "execution_count": 15,
     "metadata": {},
     "output_type": "execute_result"
    }
   ],
   "source": [
    "predict_top3_dog_breeds('Brittany_02625.jpg')"
   ]
  },
  {
   "cell_type": "code",
   "execution_count": 20,
   "metadata": {
    "Collapsed": "false"
   },
   "outputs": [],
   "source": [
    "def test(loaders, model, criterion):\n",
    "    # monitor test loss and accuracy\n",
    "    test_loss = 0.\n",
    "    correct = 0.\n",
    "    total = 0.\n",
    "\n",
    "    for batch_idx, (data, target) in enumerate(loaders):\n",
    "        # forward pass: compute predicted outputs by passing inputs to the model\n",
    "        output = model(data)\n",
    "        # calculate the loss\n",
    "        loss = criterion(output, target)\n",
    "        # update average test loss \n",
    "        test_loss = test_loss + ((1 / (batch_idx + 1)) * (loss.data - test_loss))\n",
    "        # convert output probabilities to predicted class\n",
    "        pred = output.data.max(1, keepdim=True)[1]\n",
    "        # compare predictions to true label\n",
    "        correct += np.sum(np.squeeze(pred.eq(target.data.view_as(pred))).numpy())\n",
    "        total += data.size(0)\n",
    "            \n",
    "    print('Test Loss: {:.6f}\\n'.format(test_loss))\n",
    "\n",
    "    print('\\nTest Accuracy: %2d%% (%2d/%2d)' % (\n",
    "        100. * correct / total, correct, total))"
   ]
  },
  {
   "cell_type": "code",
   "execution_count": 21,
   "metadata": {
    "Collapsed": "false"
   },
   "outputs": [
    {
     "name": "stdout",
     "output_type": "stream",
     "text": [
      "Test Loss: 0.412053\n",
      "\n",
      "\n",
      "Test Accuracy: 86% (727/836)\n"
     ]
    }
   ],
   "source": [
    "BATCH_SIZE = 16\n",
    "test_dataset = datasets.ImageFolder('dogImages/test', transform=preprocess)\n",
    "test_dataset_batch = DataLoader(\n",
    "    test_dataset,\n",
    "    batch_size=BATCH_SIZE,\n",
    ")\n",
    "\n",
    "criterion_transfer = torch.nn.CrossEntropyLoss()\n",
    "test(test_dataset_batch, BiT_M_R101_1, criterion_transfer)"
   ]
  },
  {
   "cell_type": "markdown",
   "metadata": {
    "Collapsed": "false"
   },
   "source": [
    "## Integration"
   ]
  },
  {
   "cell_type": "code",
   "execution_count": 136,
   "metadata": {
    "Collapsed": "false"
   },
   "outputs": [],
   "source": [
    "def predict(img_path):\n",
    "    if dog_detector(img_path):\n",
    "        return predict_top3_dog_breeds(img_path)\n",
    "    else:\n",
    "        return 'No dog is detected, please try another image again!'"
   ]
  },
  {
   "cell_type": "code",
   "execution_count": 137,
   "metadata": {
    "Collapsed": "false"
   },
   "outputs": [
    {
     "data": {
      "text/plain": [
       "[('Brittany', 0.9765796),\n",
       " ('Irish red and white setter', 0.008068973),\n",
       " ('Pointer', 0.0073480364)]"
      ]
     },
     "execution_count": 137,
     "metadata": {},
     "output_type": "execute_result"
    }
   ],
   "source": [
    "predict('Brittany_02625.jpg')"
   ]
  },
  {
   "cell_type": "code",
   "execution_count": 138,
   "metadata": {
    "Collapsed": "false"
   },
   "outputs": [
    {
     "data": {
      "text/plain": [
       "'No dog is detected, please try another image again!'"
      ]
     },
     "execution_count": 138,
     "metadata": {},
     "output_type": "execute_result"
    }
   ],
   "source": [
    "predict('sky.jpeg')"
   ]
  },
  {
   "cell_type": "code",
   "execution_count": null,
   "metadata": {
    "Collapsed": "false"
   },
   "outputs": [],
   "source": []
  }
 ],
 "metadata": {
  "environment": {
   "name": "tf22-gpu.2-2.m47",
   "type": "gcloud",
   "uri": "gcr.io/deeplearning-platform-release/tf22-gpu.2-2:m47"
  },
  "kernelspec": {
   "display_name": "Python 3",
   "language": "python",
   "name": "python3"
  },
  "language_info": {
   "codemirror_mode": {
    "name": "ipython",
    "version": 3
   },
   "file_extension": ".py",
   "mimetype": "text/x-python",
   "name": "python",
   "nbconvert_exporter": "python",
   "pygments_lexer": "ipython3",
   "version": "3.7.6"
  }
 },
 "nbformat": 4,
 "nbformat_minor": 4
}
