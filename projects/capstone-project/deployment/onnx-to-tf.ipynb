{
 "cells": [
  {
   "cell_type": "code",
   "execution_count": 10,
   "metadata": {},
   "outputs": [
    {
     "name": "stdout",
     "output_type": "stream",
     "text": [
      "Collecting tensorflow\n",
      "  Downloading tensorflow-2.2.0-cp37-cp37m-manylinux2010_x86_64.whl (516.2 MB)\n",
      "\u001b[K     |████████████████████████████████| 516.2 MB 2.3 kB/s  eta 0:00:01     |██████████████████████▍         | 360.8 MB 64.1 MB/s eta 0:00:03     |███████████████████████         | 370.8 MB 64.1 MB/s eta 0:00:03\n",
      "\u001b[33mWARNING: Retrying (Retry(total=4, connect=None, read=None, redirect=None, status=None)) after connection broken by 'ProtocolError('Connection aborted.', OSError(\"(104, 'ECONNRESET')\"))': /simple/termcolor/\u001b[0m\n",
      "\u001b[?25hCollecting termcolor>=1.1.0\n",
      "  Downloading termcolor-1.1.0.tar.gz (3.9 kB)\n",
      "Requirement already satisfied: wheel>=0.26; python_version >= \"3\" in /opt/conda/lib/python3.7/site-packages (from tensorflow) (0.34.2)\n",
      "Collecting google-pasta>=0.1.8\n",
      "  Downloading google_pasta-0.2.0-py3-none-any.whl (57 kB)\n",
      "\u001b[K     |████████████████████████████████| 57 kB 5.5 MB/s  eta 0:00:01\n",
      "\u001b[?25hRequirement already satisfied: scipy==1.4.1; python_version >= \"3\" in /opt/conda/lib/python3.7/site-packages (from tensorflow) (1.4.1)\n",
      "Collecting opt-einsum>=2.3.2\n",
      "  Downloading opt_einsum-3.2.1-py3-none-any.whl (63 kB)\n",
      "\u001b[K     |████████████████████████████████| 63 kB 2.2 MB/s  eta 0:00:01\n",
      "\u001b[?25hCollecting gast==0.3.3\n",
      "  Downloading gast-0.3.3-py2.py3-none-any.whl (9.7 kB)\n",
      "Collecting astunparse==1.6.3\n",
      "  Downloading astunparse-1.6.3-py2.py3-none-any.whl (12 kB)\n",
      "Collecting absl-py>=0.7.0\n",
      "  Downloading absl-py-0.9.0.tar.gz (104 kB)\n",
      "\u001b[K     |████████████████████████████████| 104 kB 68.8 MB/s eta 0:00:01\n",
      "\u001b[?25hCollecting tensorboard<2.3.0,>=2.2.0\n",
      "  Downloading tensorboard-2.2.2-py3-none-any.whl (3.0 MB)\n",
      "\u001b[K     |████████████████████████████████| 3.0 MB 32.0 MB/s eta 0:00:01\n",
      "\u001b[?25hCollecting tensorflow-estimator<2.3.0,>=2.2.0\n",
      "  Downloading tensorflow_estimator-2.2.0-py2.py3-none-any.whl (454 kB)\n",
      "\u001b[K     |████████████████████████████████| 454 kB 52.6 MB/s eta 0:00:01\n",
      "\u001b[?25hRequirement already satisfied: wrapt>=1.11.1 in /opt/conda/lib/python3.7/site-packages (from tensorflow) (1.11.2)\n",
      "Requirement already satisfied: six>=1.12.0 in /opt/conda/lib/python3.7/site-packages (from tensorflow) (1.15.0)\n",
      "Requirement already satisfied: numpy<2.0,>=1.16.0 in /opt/conda/lib/python3.7/site-packages (from tensorflow) (1.18.1)\n",
      "Requirement already satisfied: grpcio>=1.8.6 in /opt/conda/lib/python3.7/site-packages (from tensorflow) (1.23.0)\n",
      "Collecting keras-preprocessing>=1.1.0\n",
      "  Downloading Keras_Preprocessing-1.1.2-py2.py3-none-any.whl (42 kB)\n",
      "\u001b[K     |████████████████████████████████| 42 kB 1.4 MB/s  eta 0:00:01\n",
      "\u001b[?25hRequirement already satisfied: h5py<2.11.0,>=2.10.0 in /opt/conda/lib/python3.7/site-packages (from tensorflow) (2.10.0)\n",
      "Requirement already satisfied: protobuf>=3.8.0 in /opt/conda/lib/python3.7/site-packages (from tensorflow) (3.11.4)\n",
      "Requirement already satisfied: werkzeug>=0.11.15 in /opt/conda/lib/python3.7/site-packages (from tensorboard<2.3.0,>=2.2.0->tensorflow) (1.0.1)\n",
      "Requirement already satisfied: google-auth-oauthlib<0.5,>=0.4.1 in /opt/conda/lib/python3.7/site-packages (from tensorboard<2.3.0,>=2.2.0->tensorflow) (0.4.1)\n",
      "Requirement already satisfied: markdown>=2.6.8 in /opt/conda/lib/python3.7/site-packages (from tensorboard<2.3.0,>=2.2.0->tensorflow) (3.2.2)\n",
      "Collecting tensorboard-plugin-wit>=1.6.0\n",
      "  Downloading tensorboard_plugin_wit-1.6.0.post3-py3-none-any.whl (777 kB)\n",
      "\u001b[K     |████████████████████████████████| 777 kB 50.5 MB/s eta 0:00:01\n",
      "\u001b[?25hRequirement already satisfied: setuptools>=41.0.0 in /opt/conda/lib/python3.7/site-packages (from tensorboard<2.3.0,>=2.2.0->tensorflow) (47.1.1.post20200529)\n",
      "Requirement already satisfied: google-auth<2,>=1.6.3 in /opt/conda/lib/python3.7/site-packages (from tensorboard<2.3.0,>=2.2.0->tensorflow) (1.16.1)\n",
      "Requirement already satisfied: requests<3,>=2.21.0 in /opt/conda/lib/python3.7/site-packages (from tensorboard<2.3.0,>=2.2.0->tensorflow) (2.23.0)\n",
      "Requirement already satisfied: requests-oauthlib>=0.7.0 in /opt/conda/lib/python3.7/site-packages (from google-auth-oauthlib<0.5,>=0.4.1->tensorboard<2.3.0,>=2.2.0->tensorflow) (1.2.0)\n",
      "Requirement already satisfied: importlib-metadata; python_version < \"3.8\" in /opt/conda/lib/python3.7/site-packages (from markdown>=2.6.8->tensorboard<2.3.0,>=2.2.0->tensorflow) (1.6.1)\n",
      "Requirement already satisfied: rsa<4.1,>=3.1.4 in /opt/conda/lib/python3.7/site-packages (from google-auth<2,>=1.6.3->tensorboard<2.3.0,>=2.2.0->tensorflow) (4.0)\n",
      "Requirement already satisfied: cachetools<5.0,>=2.0.0 in /opt/conda/lib/python3.7/site-packages (from google-auth<2,>=1.6.3->tensorboard<2.3.0,>=2.2.0->tensorflow) (4.1.0)\n",
      "Requirement already satisfied: pyasn1-modules>=0.2.1 in /opt/conda/lib/python3.7/site-packages (from google-auth<2,>=1.6.3->tensorboard<2.3.0,>=2.2.0->tensorflow) (0.2.7)\n",
      "Requirement already satisfied: certifi>=2017.4.17 in /opt/conda/lib/python3.7/site-packages (from requests<3,>=2.21.0->tensorboard<2.3.0,>=2.2.0->tensorflow) (2020.4.5.2)\n",
      "Requirement already satisfied: urllib3!=1.25.0,!=1.25.1,<1.26,>=1.21.1 in /opt/conda/lib/python3.7/site-packages (from requests<3,>=2.21.0->tensorboard<2.3.0,>=2.2.0->tensorflow) (1.25.9)\n",
      "Requirement already satisfied: idna<3,>=2.5 in /opt/conda/lib/python3.7/site-packages (from requests<3,>=2.21.0->tensorboard<2.3.0,>=2.2.0->tensorflow) (2.9)\n",
      "Requirement already satisfied: chardet<4,>=3.0.2 in /opt/conda/lib/python3.7/site-packages (from requests<3,>=2.21.0->tensorboard<2.3.0,>=2.2.0->tensorflow) (3.0.4)\n",
      "Requirement already satisfied: oauthlib>=3.0.0 in /opt/conda/lib/python3.7/site-packages (from requests-oauthlib>=0.7.0->google-auth-oauthlib<0.5,>=0.4.1->tensorboard<2.3.0,>=2.2.0->tensorflow) (3.0.1)\n",
      "Requirement already satisfied: zipp>=0.5 in /opt/conda/lib/python3.7/site-packages (from importlib-metadata; python_version < \"3.8\"->markdown>=2.6.8->tensorboard<2.3.0,>=2.2.0->tensorflow) (3.1.0)\n",
      "Requirement already satisfied: pyasn1>=0.1.3 in /opt/conda/lib/python3.7/site-packages (from rsa<4.1,>=3.1.4->google-auth<2,>=1.6.3->tensorboard<2.3.0,>=2.2.0->tensorflow) (0.4.8)\n",
      "Building wheels for collected packages: termcolor, absl-py\n",
      "  Building wheel for termcolor (setup.py) ... \u001b[?25ldone\n",
      "\u001b[?25h  Created wheel for termcolor: filename=termcolor-1.1.0-py3-none-any.whl size=4830 sha256=f641b925c6c003e88e0c15c4e68b124541dc565eb4a4f8792cc136268e51f6aa\n",
      "  Stored in directory: /home/jupyter/.cache/pip/wheels/3f/e3/ec/8a8336ff196023622fbcb36de0c5a5c218cbb24111d1d4c7f2\n",
      "  Building wheel for absl-py (setup.py) ... \u001b[?25ldone\n",
      "\u001b[?25h  Created wheel for absl-py: filename=absl_py-0.9.0-py3-none-any.whl size=121931 sha256=067a0ad530b912486c7f2093b9e27dfce3546a397149fe1e54558dcfa960c2b6\n",
      "  Stored in directory: /home/jupyter/.cache/pip/wheels/cc/af/1a/498a24d0730ef484019e007bb9e8cef3ac00311a672c049a3e\n",
      "Successfully built termcolor absl-py\n",
      "\u001b[31mERROR: tensorboard 2.2.2 has requirement grpcio>=1.24.3, but you'll have grpcio 1.23.0 which is incompatible.\u001b[0m\n",
      "Installing collected packages: termcolor, google-pasta, opt-einsum, gast, astunparse, absl-py, tensorboard-plugin-wit, tensorboard, tensorflow-estimator, keras-preprocessing, tensorflow\n",
      "Successfully installed absl-py-0.9.0 astunparse-1.6.3 gast-0.3.3 google-pasta-0.2.0 keras-preprocessing-1.1.2 opt-einsum-3.2.1 tensorboard-2.2.2 tensorboard-plugin-wit-1.6.0.post3 tensorflow-2.2.0 tensorflow-estimator-2.2.0 termcolor-1.1.0\n"
     ]
    }
   ],
   "source": [
    "!pip install tensorflow"
   ]
  },
  {
   "cell_type": "code",
   "execution_count": 12,
   "metadata": {},
   "outputs": [
    {
     "name": "stdout",
     "output_type": "stream",
     "text": [
      "Collecting tensorflow_addons\n",
      "  Downloading tensorflow_addons-0.10.0-cp37-cp37m-manylinux2010_x86_64.whl (1.0 MB)\n",
      "\u001b[K     |████████████████████████████████| 1.0 MB 2.5 MB/s eta 0:00:01\n",
      "\u001b[?25hCollecting typeguard>=2.7\n",
      "  Downloading typeguard-2.9.1-py3-none-any.whl (16 kB)\n",
      "Installing collected packages: typeguard, tensorflow-addons\n",
      "Successfully installed tensorflow-addons-0.10.0 typeguard-2.9.1\n"
     ]
    }
   ],
   "source": [
    "!pip install tensorflow_addons"
   ]
  },
  {
   "cell_type": "code",
   "execution_count": 26,
   "metadata": {},
   "outputs": [
    {
     "name": "stdout",
     "output_type": "stream",
     "text": [
      "Collecting onnx-tf\n",
      "  Downloading onnx_tf-1.5.0-py3-none-any.whl (153 kB)\n",
      "\u001b[K     |████████████████████████████████| 153 kB 2.7 MB/s eta 0:00:01\n",
      "\u001b[?25hRequirement already satisfied: PyYAML in /opt/conda/lib/python3.7/site-packages (from onnx-tf) (5.3.1)\n",
      "Requirement already satisfied: onnx>=1.5.0 in /opt/conda/lib/python3.7/site-packages (from onnx-tf) (1.7.0)\n",
      "Requirement already satisfied: typing-extensions>=3.6.2.1 in /opt/conda/lib/python3.7/site-packages (from onnx>=1.5.0->onnx-tf) (3.7.4.2)\n",
      "Requirement already satisfied: six in /opt/conda/lib/python3.7/site-packages (from onnx>=1.5.0->onnx-tf) (1.15.0)\n",
      "Requirement already satisfied: numpy in /opt/conda/lib/python3.7/site-packages (from onnx>=1.5.0->onnx-tf) (1.18.1)\n",
      "Requirement already satisfied: protobuf in /opt/conda/lib/python3.7/site-packages (from onnx>=1.5.0->onnx-tf) (3.11.4)\n",
      "Requirement already satisfied: setuptools in /opt/conda/lib/python3.7/site-packages (from protobuf->onnx>=1.5.0->onnx-tf) (47.1.1.post20200529)\n",
      "Installing collected packages: onnx-tf\n",
      "Successfully installed onnx-tf-1.5.0\n"
     ]
    }
   ],
   "source": [
    "!pip install onnx-tf"
   ]
  },
  {
   "cell_type": "code",
   "execution_count": 31,
   "metadata": {},
   "outputs": [],
   "source": [
    "import onnx\n",
    "from onnx_tf.backend import prepare\n",
    "import warnings\n",
    "\n",
    "warnings.filterwarnings('ignore') # Ignore all the warning messages in this tutorial"
   ]
  },
  {
   "cell_type": "code",
   "execution_count": 32,
   "metadata": {},
   "outputs": [],
   "source": [
    "DOG_DETECTION_MODEL = 'dog-detection-model.onnx'\n",
    "DOG_CLASSIFICATION_MODEL = 'dog-classification-model.onnx'\n",
    "\n",
    "TF_DOG_DETECTION_MODEL = 'dog-detection-model.pb'\n",
    "TF_DOG_CLASSIFICATION_MODEL = 'dog-classification-model.pb'"
   ]
  },
  {
   "cell_type": "code",
   "execution_count": 33,
   "metadata": {},
   "outputs": [
    {
     "name": "stderr",
     "output_type": "stream",
     "text": [
      "2020-06-25 12:31:36,250 - onnx-tf - INFO - Fail to get since_version of BitShift in domain `` with max_inclusive_version=9. Set to 1.\n",
      "2020-06-25 12:31:36,252 - onnx-tf - INFO - Unknown op ConstantFill in domain `ai.onnx`.\n",
      "2020-06-25 12:31:36,252 - onnx-tf - INFO - Fail to get since_version of ConvInteger in domain `` with max_inclusive_version=9. Set to 1.\n",
      "2020-06-25 12:31:36,254 - onnx-tf - INFO - Fail to get since_version of CumSum in domain `` with max_inclusive_version=9. Set to 1.\n",
      "2020-06-25 12:31:36,255 - onnx-tf - INFO - Fail to get since_version of DequantizeLinear in domain `` with max_inclusive_version=9. Set to 1.\n",
      "2020-06-25 12:31:36,256 - onnx-tf - INFO - Fail to get since_version of Det in domain `` with max_inclusive_version=9. Set to 1.\n",
      "2020-06-25 12:31:36,257 - onnx-tf - INFO - Fail to get since_version of DynamicQuantizeLinear in domain `` with max_inclusive_version=9. Set to 1.\n",
      "2020-06-25 12:31:36,258 - onnx-tf - INFO - Fail to get since_version of GatherND in domain `` with max_inclusive_version=9. Set to 1.\n",
      "2020-06-25 12:31:36,260 - onnx-tf - INFO - Unknown op ImageScaler in domain `ai.onnx`.\n",
      "2020-06-25 12:31:36,260 - onnx-tf - INFO - Fail to get since_version of IsInf in domain `` with max_inclusive_version=9. Set to 1.\n",
      "2020-06-25 12:31:36,262 - onnx-tf - INFO - Fail to get since_version of MatMulInteger in domain `` with max_inclusive_version=9. Set to 1.\n",
      "2020-06-25 12:31:36,263 - onnx-tf - INFO - Fail to get since_version of Mod in domain `` with max_inclusive_version=9. Set to 1.\n",
      "2020-06-25 12:31:36,263 - onnx-tf - INFO - Fail to get since_version of NonMaxSuppression in domain `` with max_inclusive_version=9. Set to 1.\n",
      "2020-06-25 12:31:36,264 - onnx-tf - INFO - Fail to get since_version of QLinearConv in domain `` with max_inclusive_version=9. Set to 1.\n",
      "2020-06-25 12:31:36,265 - onnx-tf - INFO - Fail to get since_version of QLinearMatMul in domain `` with max_inclusive_version=9. Set to 1.\n",
      "2020-06-25 12:31:36,266 - onnx-tf - INFO - Fail to get since_version of QuantizeLinear in domain `` with max_inclusive_version=9. Set to 1.\n",
      "2020-06-25 12:31:36,267 - onnx-tf - INFO - Fail to get since_version of Range in domain `` with max_inclusive_version=9. Set to 1.\n",
      "2020-06-25 12:31:36,268 - onnx-tf - INFO - Fail to get since_version of Resize in domain `` with max_inclusive_version=9. Set to 1.\n",
      "2020-06-25 12:31:36,270 - onnx-tf - INFO - Fail to get since_version of ReverseSequence in domain `` with max_inclusive_version=9. Set to 1.\n",
      "2020-06-25 12:31:36,270 - onnx-tf - INFO - Fail to get since_version of Round in domain `` with max_inclusive_version=9. Set to 1.\n",
      "2020-06-25 12:31:36,277 - onnx-tf - INFO - Fail to get since_version of ScatterElements in domain `` with max_inclusive_version=9. Set to 1.\n",
      "2020-06-25 12:31:36,278 - onnx-tf - INFO - Fail to get since_version of ScatterND in domain `` with max_inclusive_version=9. Set to 1.\n",
      "2020-06-25 12:31:36,279 - onnx-tf - INFO - Fail to get since_version of SequenceAt in domain `` with max_inclusive_version=9. Set to 1.\n",
      "2020-06-25 12:31:36,280 - onnx-tf - INFO - Fail to get since_version of SequenceConstruct in domain `` with max_inclusive_version=9. Set to 1.\n",
      "2020-06-25 12:31:36,281 - onnx-tf - INFO - Fail to get since_version of SequenceEmpty in domain `` with max_inclusive_version=9. Set to 1.\n",
      "2020-06-25 12:31:36,281 - onnx-tf - INFO - Fail to get since_version of SequenceErase in domain `` with max_inclusive_version=9. Set to 1.\n",
      "2020-06-25 12:31:36,282 - onnx-tf - INFO - Fail to get since_version of SequenceInsert in domain `` with max_inclusive_version=9. Set to 1.\n",
      "2020-06-25 12:31:36,284 - onnx-tf - INFO - Fail to get since_version of SequenceLength in domain `` with max_inclusive_version=9. Set to 1.\n",
      "2020-06-25 12:31:36,285 - onnx-tf - INFO - Fail to get since_version of ThresholdedRelu in domain `` with max_inclusive_version=9. Set to 1.\n"
     ]
    }
   ],
   "source": [
    "# Dog Detection\n",
    "dog_detection_model = onnx.load(DOG_DETECTION_MODEL)  # load onnx model\n",
    "tf_dog_detection_model = prepare(dog_detection_model)  # prepare tf representation\n",
    "tf_dog_detection_model.export_graph(TF_DOG_DETECTION_MODEL)  # export the model"
   ]
  },
  {
   "cell_type": "code",
   "execution_count": 34,
   "metadata": {},
   "outputs": [
    {
     "name": "stderr",
     "output_type": "stream",
     "text": [
      "2020-06-25 12:32:30,477 - onnx-tf - INFO - Fail to get since_version of BitShift in domain `` with max_inclusive_version=9. Set to 1.\n",
      "2020-06-25 12:32:30,478 - onnx-tf - INFO - Unknown op ConstantFill in domain `ai.onnx`.\n",
      "2020-06-25 12:32:30,479 - onnx-tf - INFO - Fail to get since_version of ConvInteger in domain `` with max_inclusive_version=9. Set to 1.\n",
      "2020-06-25 12:32:30,481 - onnx-tf - INFO - Fail to get since_version of CumSum in domain `` with max_inclusive_version=9. Set to 1.\n",
      "2020-06-25 12:32:30,482 - onnx-tf - INFO - Fail to get since_version of DequantizeLinear in domain `` with max_inclusive_version=9. Set to 1.\n",
      "2020-06-25 12:32:30,482 - onnx-tf - INFO - Fail to get since_version of Det in domain `` with max_inclusive_version=9. Set to 1.\n",
      "2020-06-25 12:32:30,483 - onnx-tf - INFO - Fail to get since_version of DynamicQuantizeLinear in domain `` with max_inclusive_version=9. Set to 1.\n",
      "2020-06-25 12:32:30,484 - onnx-tf - INFO - Fail to get since_version of GatherND in domain `` with max_inclusive_version=9. Set to 1.\n",
      "2020-06-25 12:32:30,485 - onnx-tf - INFO - Unknown op ImageScaler in domain `ai.onnx`.\n",
      "2020-06-25 12:32:30,486 - onnx-tf - INFO - Fail to get since_version of IsInf in domain `` with max_inclusive_version=9. Set to 1.\n",
      "2020-06-25 12:32:30,487 - onnx-tf - INFO - Fail to get since_version of MatMulInteger in domain `` with max_inclusive_version=9. Set to 1.\n",
      "2020-06-25 12:32:30,489 - onnx-tf - INFO - Fail to get since_version of Mod in domain `` with max_inclusive_version=9. Set to 1.\n",
      "2020-06-25 12:32:30,490 - onnx-tf - INFO - Fail to get since_version of NonMaxSuppression in domain `` with max_inclusive_version=9. Set to 1.\n",
      "2020-06-25 12:32:30,492 - onnx-tf - INFO - Fail to get since_version of QLinearConv in domain `` with max_inclusive_version=9. Set to 1.\n",
      "2020-06-25 12:32:30,493 - onnx-tf - INFO - Fail to get since_version of QLinearMatMul in domain `` with max_inclusive_version=9. Set to 1.\n",
      "2020-06-25 12:32:30,494 - onnx-tf - INFO - Fail to get since_version of QuantizeLinear in domain `` with max_inclusive_version=9. Set to 1.\n",
      "2020-06-25 12:32:30,495 - onnx-tf - INFO - Fail to get since_version of Range in domain `` with max_inclusive_version=9. Set to 1.\n",
      "2020-06-25 12:32:30,496 - onnx-tf - INFO - Fail to get since_version of Resize in domain `` with max_inclusive_version=9. Set to 1.\n",
      "2020-06-25 12:32:30,497 - onnx-tf - INFO - Fail to get since_version of ReverseSequence in domain `` with max_inclusive_version=9. Set to 1.\n",
      "2020-06-25 12:32:30,500 - onnx-tf - INFO - Fail to get since_version of Round in domain `` with max_inclusive_version=9. Set to 1.\n",
      "2020-06-25 12:32:30,501 - onnx-tf - INFO - Fail to get since_version of ScatterElements in domain `` with max_inclusive_version=9. Set to 1.\n",
      "2020-06-25 12:32:30,502 - onnx-tf - INFO - Fail to get since_version of ScatterND in domain `` with max_inclusive_version=9. Set to 1.\n",
      "2020-06-25 12:32:30,504 - onnx-tf - INFO - Fail to get since_version of SequenceAt in domain `` with max_inclusive_version=9. Set to 1.\n",
      "2020-06-25 12:32:30,505 - onnx-tf - INFO - Fail to get since_version of SequenceConstruct in domain `` with max_inclusive_version=9. Set to 1.\n",
      "2020-06-25 12:32:30,506 - onnx-tf - INFO - Fail to get since_version of SequenceEmpty in domain `` with max_inclusive_version=9. Set to 1.\n",
      "2020-06-25 12:32:30,507 - onnx-tf - INFO - Fail to get since_version of SequenceErase in domain `` with max_inclusive_version=9. Set to 1.\n",
      "2020-06-25 12:32:30,508 - onnx-tf - INFO - Fail to get since_version of SequenceInsert in domain `` with max_inclusive_version=9. Set to 1.\n",
      "2020-06-25 12:32:30,510 - onnx-tf - INFO - Fail to get since_version of SequenceLength in domain `` with max_inclusive_version=9. Set to 1.\n",
      "2020-06-25 12:32:30,511 - onnx-tf - INFO - Fail to get since_version of ThresholdedRelu in domain `` with max_inclusive_version=9. Set to 1.\n"
     ]
    }
   ],
   "source": [
    "# Dog Classification\n",
    "dog_classification_model = onnx.load(DOG_CLASSIFICATION_MODEL)  # load onnx model\n",
    "tf_dog_classification_model = prepare(dog_classification_model)  # prepare tf representation\n",
    "tf_dog_classification_model.export_graph(TF_DOG_CLASSIFICATION_MODEL)  # export the model"
   ]
  },
  {
   "cell_type": "code",
   "execution_count": 35,
   "metadata": {
    "collapsed": true,
    "jupyter": {
     "outputs_hidden": true
    }
   },
   "outputs": [
    {
     "name": "stdout",
     "output_type": "stream",
     "text": [
      "Collecting tensorflowjs\n",
      "  Downloading tensorflowjs-2.0.1-py3-none-any.whl (60 kB)\n",
      "\u001b[K     |████████████████████████████████| 60 kB 1.8 MB/s eta 0:00:011\n",
      "\u001b[?25hRequirement already satisfied: numpy>=1.16.4 in /opt/conda/lib/python3.7/site-packages (from tensorflowjs) (1.18.1)\n",
      "Collecting PyInquirer==1.0.3\n",
      "  Downloading PyInquirer-1.0.3.tar.gz (27 kB)\n",
      "Collecting tensorflow-hub==0.7.0\n",
      "  Downloading tensorflow_hub-0.7.0-py2.py3-none-any.whl (89 kB)\n",
      "\u001b[K     |████████████████████████████████| 89 kB 3.9 MB/s eta 0:00:011\n",
      "\u001b[?25hCollecting tensorflow-cpu>=2.1.0<3\n",
      "  Downloading tensorflow_cpu-2.2.0-cp37-cp37m-manylinux2010_x86_64.whl (144.4 MB)\n",
      "\u001b[K     |████████████████████████████████| 144.4 MB 10 kB/s s eta 0:00:01\n",
      "\u001b[?25hRequirement already satisfied: six>=1.12.0 in /opt/conda/lib/python3.7/site-packages (from tensorflowjs) (1.15.0)\n",
      "Requirement already satisfied: h5py>=2.8.0 in /opt/conda/lib/python3.7/site-packages (from tensorflowjs) (2.10.0)\n",
      "Collecting prompt_toolkit==1.0.14\n",
      "  Downloading prompt_toolkit-1.0.14-py3-none-any.whl (248 kB)\n",
      "\u001b[K     |████████████████████████████████| 248 kB 46.1 MB/s eta 0:00:01\n",
      "\u001b[?25hRequirement already satisfied: Pygments>=2.2.0 in /opt/conda/lib/python3.7/site-packages (from PyInquirer==1.0.3->tensorflowjs) (2.6.1)\n",
      "Requirement already satisfied: regex>=2016.11.21 in /opt/conda/lib/python3.7/site-packages (from PyInquirer==1.0.3->tensorflowjs) (2019.8.19)\n",
      "Requirement already satisfied: protobuf>=3.4.0 in /opt/conda/lib/python3.7/site-packages (from tensorflow-hub==0.7.0->tensorflowjs) (3.11.4)\n",
      "Requirement already satisfied: keras-preprocessing>=1.1.0 in /opt/conda/lib/python3.7/site-packages (from tensorflow-cpu>=2.1.0<3->tensorflowjs) (1.1.2)\n",
      "Requirement already satisfied: tensorboard<2.3.0,>=2.2.0 in /opt/conda/lib/python3.7/site-packages (from tensorflow-cpu>=2.1.0<3->tensorflowjs) (2.2.2)\n",
      "Requirement already satisfied: grpcio>=1.8.6 in /opt/conda/lib/python3.7/site-packages (from tensorflow-cpu>=2.1.0<3->tensorflowjs) (1.23.0)\n",
      "Requirement already satisfied: tensorflow-estimator<2.3.0,>=2.2.0 in /opt/conda/lib/python3.7/site-packages (from tensorflow-cpu>=2.1.0<3->tensorflowjs) (2.2.0)\n",
      "Requirement already satisfied: google-pasta>=0.1.8 in /opt/conda/lib/python3.7/site-packages (from tensorflow-cpu>=2.1.0<3->tensorflowjs) (0.2.0)\n",
      "Requirement already satisfied: gast==0.3.3 in /opt/conda/lib/python3.7/site-packages (from tensorflow-cpu>=2.1.0<3->tensorflowjs) (0.3.3)\n",
      "Requirement already satisfied: astunparse==1.6.3 in /opt/conda/lib/python3.7/site-packages (from tensorflow-cpu>=2.1.0<3->tensorflowjs) (1.6.3)\n",
      "Requirement already satisfied: wrapt>=1.11.1 in /opt/conda/lib/python3.7/site-packages (from tensorflow-cpu>=2.1.0<3->tensorflowjs) (1.11.2)\n",
      "Requirement already satisfied: wheel>=0.26; python_version >= \"3\" in /opt/conda/lib/python3.7/site-packages (from tensorflow-cpu>=2.1.0<3->tensorflowjs) (0.34.2)\n",
      "Requirement already satisfied: scipy==1.4.1; python_version >= \"3\" in /opt/conda/lib/python3.7/site-packages (from tensorflow-cpu>=2.1.0<3->tensorflowjs) (1.4.1)\n",
      "Requirement already satisfied: absl-py>=0.7.0 in /opt/conda/lib/python3.7/site-packages (from tensorflow-cpu>=2.1.0<3->tensorflowjs) (0.9.0)\n",
      "Requirement already satisfied: opt-einsum>=2.3.2 in /opt/conda/lib/python3.7/site-packages (from tensorflow-cpu>=2.1.0<3->tensorflowjs) (3.2.1)\n",
      "Requirement already satisfied: termcolor>=1.1.0 in /opt/conda/lib/python3.7/site-packages (from tensorflow-cpu>=2.1.0<3->tensorflowjs) (1.1.0)\n",
      "Requirement already satisfied: wcwidth in /opt/conda/lib/python3.7/site-packages (from prompt_toolkit==1.0.14->PyInquirer==1.0.3->tensorflowjs) (0.2.4)\n",
      "Requirement already satisfied: setuptools in /opt/conda/lib/python3.7/site-packages (from protobuf>=3.4.0->tensorflow-hub==0.7.0->tensorflowjs) (47.1.1.post20200529)\n",
      "Requirement already satisfied: google-auth-oauthlib<0.5,>=0.4.1 in /opt/conda/lib/python3.7/site-packages (from tensorboard<2.3.0,>=2.2.0->tensorflow-cpu>=2.1.0<3->tensorflowjs) (0.4.1)\n",
      "Requirement already satisfied: werkzeug>=0.11.15 in /opt/conda/lib/python3.7/site-packages (from tensorboard<2.3.0,>=2.2.0->tensorflow-cpu>=2.1.0<3->tensorflowjs) (1.0.1)\n",
      "Requirement already satisfied: requests<3,>=2.21.0 in /opt/conda/lib/python3.7/site-packages (from tensorboard<2.3.0,>=2.2.0->tensorflow-cpu>=2.1.0<3->tensorflowjs) (2.23.0)\n",
      "Requirement already satisfied: markdown>=2.6.8 in /opt/conda/lib/python3.7/site-packages (from tensorboard<2.3.0,>=2.2.0->tensorflow-cpu>=2.1.0<3->tensorflowjs) (3.2.2)\n",
      "Requirement already satisfied: google-auth<2,>=1.6.3 in /opt/conda/lib/python3.7/site-packages (from tensorboard<2.3.0,>=2.2.0->tensorflow-cpu>=2.1.0<3->tensorflowjs) (1.16.1)\n",
      "Requirement already satisfied: tensorboard-plugin-wit>=1.6.0 in /opt/conda/lib/python3.7/site-packages (from tensorboard<2.3.0,>=2.2.0->tensorflow-cpu>=2.1.0<3->tensorflowjs) (1.6.0.post3)\n",
      "Requirement already satisfied: requests-oauthlib>=0.7.0 in /opt/conda/lib/python3.7/site-packages (from google-auth-oauthlib<0.5,>=0.4.1->tensorboard<2.3.0,>=2.2.0->tensorflow-cpu>=2.1.0<3->tensorflowjs) (1.2.0)\n",
      "Requirement already satisfied: idna<3,>=2.5 in /opt/conda/lib/python3.7/site-packages (from requests<3,>=2.21.0->tensorboard<2.3.0,>=2.2.0->tensorflow-cpu>=2.1.0<3->tensorflowjs) (2.9)\n",
      "Requirement already satisfied: certifi>=2017.4.17 in /opt/conda/lib/python3.7/site-packages (from requests<3,>=2.21.0->tensorboard<2.3.0,>=2.2.0->tensorflow-cpu>=2.1.0<3->tensorflowjs) (2020.4.5.2)\n",
      "Requirement already satisfied: chardet<4,>=3.0.2 in /opt/conda/lib/python3.7/site-packages (from requests<3,>=2.21.0->tensorboard<2.3.0,>=2.2.0->tensorflow-cpu>=2.1.0<3->tensorflowjs) (3.0.4)\n",
      "Requirement already satisfied: urllib3!=1.25.0,!=1.25.1,<1.26,>=1.21.1 in /opt/conda/lib/python3.7/site-packages (from requests<3,>=2.21.0->tensorboard<2.3.0,>=2.2.0->tensorflow-cpu>=2.1.0<3->tensorflowjs) (1.25.9)\n",
      "Requirement already satisfied: importlib-metadata; python_version < \"3.8\" in /opt/conda/lib/python3.7/site-packages (from markdown>=2.6.8->tensorboard<2.3.0,>=2.2.0->tensorflow-cpu>=2.1.0<3->tensorflowjs) (1.6.1)\n",
      "Requirement already satisfied: cachetools<5.0,>=2.0.0 in /opt/conda/lib/python3.7/site-packages (from google-auth<2,>=1.6.3->tensorboard<2.3.0,>=2.2.0->tensorflow-cpu>=2.1.0<3->tensorflowjs) (4.1.0)\n",
      "Requirement already satisfied: pyasn1-modules>=0.2.1 in /opt/conda/lib/python3.7/site-packages (from google-auth<2,>=1.6.3->tensorboard<2.3.0,>=2.2.0->tensorflow-cpu>=2.1.0<3->tensorflowjs) (0.2.7)\n",
      "Requirement already satisfied: rsa<4.1,>=3.1.4 in /opt/conda/lib/python3.7/site-packages (from google-auth<2,>=1.6.3->tensorboard<2.3.0,>=2.2.0->tensorflow-cpu>=2.1.0<3->tensorflowjs) (4.0)\n",
      "Requirement already satisfied: oauthlib>=3.0.0 in /opt/conda/lib/python3.7/site-packages (from requests-oauthlib>=0.7.0->google-auth-oauthlib<0.5,>=0.4.1->tensorboard<2.3.0,>=2.2.0->tensorflow-cpu>=2.1.0<3->tensorflowjs) (3.0.1)\n",
      "Requirement already satisfied: zipp>=0.5 in /opt/conda/lib/python3.7/site-packages (from importlib-metadata; python_version < \"3.8\"->markdown>=2.6.8->tensorboard<2.3.0,>=2.2.0->tensorflow-cpu>=2.1.0<3->tensorflowjs) (3.1.0)\n",
      "Requirement already satisfied: pyasn1<0.5.0,>=0.4.6 in /opt/conda/lib/python3.7/site-packages (from pyasn1-modules>=0.2.1->google-auth<2,>=1.6.3->tensorboard<2.3.0,>=2.2.0->tensorflow-cpu>=2.1.0<3->tensorflowjs) (0.4.8)\n",
      "Building wheels for collected packages: PyInquirer\n",
      "  Building wheel for PyInquirer (setup.py) ... \u001b[?25ldone\n",
      "\u001b[?25h  Created wheel for PyInquirer: filename=PyInquirer-1.0.3-py3-none-any.whl size=32849 sha256=dd7ab39e12933eb2c94d424aee23a1a82941ffe4d39f7de37ae23da7c92f0cc8\n",
      "  Stored in directory: /home/jupyter/.cache/pip/wheels/89/3b/7b/8b3cc8ac47137eabaeb6937a3ff0d33e78a12e2ba1e3ad4ba1\n",
      "Successfully built PyInquirer\n",
      "\u001b[31mERROR: jupyter-console 6.1.0 has requirement prompt-toolkit!=3.0.0,!=3.0.1,<3.1.0,>=2.0.0, but you'll have prompt-toolkit 1.0.14 which is incompatible.\u001b[0m\n",
      "\u001b[31mERROR: ipython 7.15.0 has requirement prompt-toolkit!=3.0.0,!=3.0.1,<3.1.0,>=2.0.0, but you'll have prompt-toolkit 1.0.14 which is incompatible.\u001b[0m\n",
      "Installing collected packages: prompt-toolkit, PyInquirer, tensorflow-hub, tensorflow-cpu, tensorflowjs\n",
      "  Attempting uninstall: prompt-toolkit\n",
      "    Found existing installation: prompt-toolkit 3.0.5\n",
      "    Uninstalling prompt-toolkit-3.0.5:\n",
      "      Successfully uninstalled prompt-toolkit-3.0.5\n",
      "Successfully installed PyInquirer-1.0.3 prompt-toolkit-1.0.14 tensorflow-cpu-2.2.0 tensorflow-hub-0.7.0 tensorflowjs-2.0.1\n"
     ]
    }
   ],
   "source": [
    "! pip install tensorflowjs"
   ]
  },
  {
   "cell_type": "code",
   "execution_count": 42,
   "metadata": {},
   "outputs": [
    {
     "name": "stdout",
     "output_type": "stream",
     "text": [
      "2020-06-25 12:44:02.856908: I tensorflow/core/grappler/optimizers/meta_optimizer.cc:797] Optimization results for grappler item: graph_to_optimize\n",
      "2020-06-25 12:44:02.856987: I tensorflow/core/grappler/optimizers/meta_optimizer.cc:799]   debug_stripper: debug_stripper did nothing. time = 4.865ms.\n",
      "2020-06-25 12:44:02.856995: I tensorflow/core/grappler/optimizers/meta_optimizer.cc:799]   model_pruner: Graph size after: 9018 nodes (-314), 23317 edges (-175), time = 205.211ms.\n",
      "2020-06-25 12:44:02.857003: I tensorflow/core/grappler/optimizers/meta_optimizer.cc:799]   constant_folding: Graph size after: 15093 nodes (6075), 22221 edges (-1096), time = 1411.302ms.\n",
      "2020-06-25 12:44:02.858611: I tensorflow/core/grappler/optimizers/meta_optimizer.cc:799]   arithmetic_optimizer: Graph size after: 14838 nodes (-255), 22221 edges (0), time = 884.511ms.\n",
      "2020-06-25 12:44:02.858705: I tensorflow/core/grappler/optimizers/meta_optimizer.cc:799]   dependency_optimizer: Graph size after: 14799 nodes (-39), 22147 edges (-74), time = 556.585ms.\n",
      "2020-06-25 12:44:02.858712: I tensorflow/core/grappler/optimizers/meta_optimizer.cc:799]   model_pruner: Graph size after: 14799 nodes (0), 22147 edges (0), time = 303.206ms.\n",
      "2020-06-25 12:44:02.858718: I tensorflow/core/grappler/optimizers/meta_optimizer.cc:799]   constant_folding: Graph size after: 14799 nodes (0), 22147 edges (0), time = 907.135ms.\n",
      "2020-06-25 12:44:02.858726: I tensorflow/core/grappler/optimizers/meta_optimizer.cc:799]   arithmetic_optimizer: Graph size after: 14799 nodes (0), 22147 edges (0), time = 922.91ms.\n",
      "2020-06-25 12:44:02.858732: I tensorflow/core/grappler/optimizers/meta_optimizer.cc:799]   dependency_optimizer: Graph size after: 14799 nodes (0), 22147 edges (0), time = 610.243ms.\n",
      "2020-06-25 12:44:02.858742: I tensorflow/core/grappler/optimizers/meta_optimizer.cc:799]   debug_stripper: debug_stripper did nothing. time = 84.68ms.\n",
      "2020-06-25 12:44:02.858757: I tensorflow/core/grappler/optimizers/meta_optimizer.cc:799]   model_pruner: Graph size after: 14799 nodes (0), 22147 edges (0), time = 268.687ms.\n",
      "2020-06-25 12:44:02.858771: I tensorflow/core/grappler/optimizers/meta_optimizer.cc:799]   constant_folding: Graph size after: 14799 nodes (0), 22147 edges (0), time = 973.542ms.\n",
      "2020-06-25 12:44:02.858781: I tensorflow/core/grappler/optimizers/meta_optimizer.cc:799]   arithmetic_optimizer: Graph size after: 14799 nodes (0), 22147 edges (0), time = 1079.29797ms.\n",
      "2020-06-25 12:44:02.858795: I tensorflow/core/grappler/optimizers/meta_optimizer.cc:799]   dependency_optimizer: Graph size after: 14799 nodes (0), 22147 edges (0), time = 638.058ms.\n",
      "2020-06-25 12:44:02.858809: I tensorflow/core/grappler/optimizers/meta_optimizer.cc:799]   model_pruner: Graph size after: 14799 nodes (0), 22147 edges (0), time = 375.699ms.\n",
      "2020-06-25 12:44:02.858822: I tensorflow/core/grappler/optimizers/meta_optimizer.cc:799]   constant_folding: Graph size after: 14799 nodes (0), 22147 edges (0), time = 1018.646ms.\n",
      "2020-06-25 12:44:02.858830: I tensorflow/core/grappler/optimizers/meta_optimizer.cc:799]   arithmetic_optimizer: Graph size after: 14799 nodes (0), 22147 edges (0), time = 1115.01904ms.\n",
      "2020-06-25 12:44:02.858838: I tensorflow/core/grappler/optimizers/meta_optimizer.cc:799]   dependency_optimizer: Graph size after: 14799 nodes (0), 22147 edges (0), time = 681.463ms.\n",
      "2020-06-25 12:44:09.782073: I tensorflow/core/grappler/optimizers/meta_optimizer.cc:797] Optimization results for grappler item: graph_to_optimize\n",
      "2020-06-25 12:44:09.782155: I tensorflow/core/grappler/optimizers/meta_optimizer.cc:799]   remapper: Graph size after: 14799 nodes (0), 22147 edges (0), time = 229.871ms.\n",
      "2020-06-25 12:44:09.782479: I tensorflow/core/grappler/optimizers/meta_optimizer.cc:799]   constant_folding: Graph size after: 14799 nodes (0), 22147 edges (0), time = 770.094ms.\n",
      "2020-06-25 12:44:09.782491: I tensorflow/core/grappler/optimizers/meta_optimizer.cc:799]   arithmetic_optimizer: Graph size after: 14799 nodes (0), 22147 edges (0), time = 785.877ms.\n",
      "2020-06-25 12:44:09.782499: I tensorflow/core/grappler/optimizers/meta_optimizer.cc:799]   dependency_optimizer: Graph size after: 14799 nodes (0), 22147 edges (0), time = 563.135ms.\n",
      "2020-06-25 12:44:09.782514: I tensorflow/core/grappler/optimizers/meta_optimizer.cc:799]   remapper: Graph size after: 14799 nodes (0), 22147 edges (0), time = 313.695ms.\n",
      "2020-06-25 12:44:09.782524: I tensorflow/core/grappler/optimizers/meta_optimizer.cc:799]   constant_folding: Graph size after: 14799 nodes (0), 22147 edges (0), time = 857.447ms.\n",
      "2020-06-25 12:44:09.782535: I tensorflow/core/grappler/optimizers/meta_optimizer.cc:799]   arithmetic_optimizer: Graph size after: 14799 nodes (0), 22147 edges (0), time = 939.845ms.\n",
      "2020-06-25 12:44:09.782544: I tensorflow/core/grappler/optimizers/meta_optimizer.cc:799]   dependency_optimizer: Graph size after: 14799 nodes (0), 22147 edges (0), time = 610.059ms.\n",
      "Writing weight file ./dog-detection-model/model.json...\n"
     ]
    }
   ],
   "source": [
    "!tensorflowjs_converter \\\n",
    "    --input_format=tf_frozen_model \\\n",
    "    --output_node_names='output' \\\n",
    "    dog-detection-model.pb \\\n",
    "    ./tf-dog-detection-model"
   ]
  },
  {
   "cell_type": "code",
   "execution_count": 44,
   "metadata": {},
   "outputs": [
    {
     "name": "stdout",
     "output_type": "stream",
     "text": [
      "2020-06-25 12:45:06.066626: I tensorflow/core/grappler/optimizers/meta_optimizer.cc:797] Optimization results for grappler item: graph_to_optimize\n",
      "2020-06-25 12:45:06.066710: I tensorflow/core/grappler/optimizers/meta_optimizer.cc:799]   debug_stripper: debug_stripper did nothing. time = 4.864ms.\n",
      "2020-06-25 12:45:06.066719: I tensorflow/core/grappler/optimizers/meta_optimizer.cc:799]   model_pruner: Graph size after: 9018 nodes (-314), 23317 edges (-175), time = 208.375ms.\n",
      "2020-06-25 12:45:06.066726: I tensorflow/core/grappler/optimizers/meta_optimizer.cc:799]   constant_folding: Graph size after: 15093 nodes (6075), 22221 edges (-1096), time = 1417.70105ms.\n",
      "2020-06-25 12:45:06.068459: I tensorflow/core/grappler/optimizers/meta_optimizer.cc:799]   arithmetic_optimizer: Graph size after: 14838 nodes (-255), 22221 edges (0), time = 883.895ms.\n",
      "2020-06-25 12:45:06.068498: I tensorflow/core/grappler/optimizers/meta_optimizer.cc:799]   dependency_optimizer: Graph size after: 14799 nodes (-39), 22147 edges (-74), time = 551.579ms.\n",
      "2020-06-25 12:45:06.068508: I tensorflow/core/grappler/optimizers/meta_optimizer.cc:799]   model_pruner: Graph size after: 14799 nodes (0), 22147 edges (0), time = 293.833ms.\n",
      "2020-06-25 12:45:06.068522: I tensorflow/core/grappler/optimizers/meta_optimizer.cc:799]   constant_folding: Graph size after: 14799 nodes (0), 22147 edges (0), time = 884.145ms.\n",
      "2020-06-25 12:45:06.068536: I tensorflow/core/grappler/optimizers/meta_optimizer.cc:799]   arithmetic_optimizer: Graph size after: 14799 nodes (0), 22147 edges (0), time = 913.665ms.\n",
      "2020-06-25 12:45:06.068549: I tensorflow/core/grappler/optimizers/meta_optimizer.cc:799]   dependency_optimizer: Graph size after: 14799 nodes (0), 22147 edges (0), time = 609.741ms.\n",
      "2020-06-25 12:45:06.068562: I tensorflow/core/grappler/optimizers/meta_optimizer.cc:799]   debug_stripper: debug_stripper did nothing. time = 81.218ms.\n",
      "2020-06-25 12:45:06.068576: I tensorflow/core/grappler/optimizers/meta_optimizer.cc:799]   model_pruner: Graph size after: 14799 nodes (0), 22147 edges (0), time = 268.059ms.\n",
      "2020-06-25 12:45:06.068589: I tensorflow/core/grappler/optimizers/meta_optimizer.cc:799]   constant_folding: Graph size after: 14799 nodes (0), 22147 edges (0), time = 1009.60303ms.\n",
      "2020-06-25 12:45:06.068602: I tensorflow/core/grappler/optimizers/meta_optimizer.cc:799]   arithmetic_optimizer: Graph size after: 14799 nodes (0), 22147 edges (0), time = 1155.25903ms.\n",
      "2020-06-25 12:45:06.068616: I tensorflow/core/grappler/optimizers/meta_optimizer.cc:799]   dependency_optimizer: Graph size after: 14799 nodes (0), 22147 edges (0), time = 653.9ms.\n",
      "2020-06-25 12:45:06.068630: I tensorflow/core/grappler/optimizers/meta_optimizer.cc:799]   model_pruner: Graph size after: 14799 nodes (0), 22147 edges (0), time = 369.924ms.\n",
      "2020-06-25 12:45:06.068654: I tensorflow/core/grappler/optimizers/meta_optimizer.cc:799]   constant_folding: Graph size after: 14799 nodes (0), 22147 edges (0), time = 1018.08398ms.\n",
      "2020-06-25 12:45:06.068668: I tensorflow/core/grappler/optimizers/meta_optimizer.cc:799]   arithmetic_optimizer: Graph size after: 14799 nodes (0), 22147 edges (0), time = 1109.81104ms.\n",
      "2020-06-25 12:45:06.068683: I tensorflow/core/grappler/optimizers/meta_optimizer.cc:799]   dependency_optimizer: Graph size after: 14799 nodes (0), 22147 edges (0), time = 677.261ms.\n",
      "2020-06-25 12:45:12.831767: I tensorflow/core/grappler/optimizers/meta_optimizer.cc:797] Optimization results for grappler item: graph_to_optimize\n",
      "2020-06-25 12:45:12.833198: I tensorflow/core/grappler/optimizers/meta_optimizer.cc:799]   remapper: Graph size after: 14799 nodes (0), 22147 edges (0), time = 222.837ms.\n",
      "2020-06-25 12:45:12.833217: I tensorflow/core/grappler/optimizers/meta_optimizer.cc:799]   constant_folding: Graph size after: 14799 nodes (0), 22147 edges (0), time = 762.253ms.\n",
      "2020-06-25 12:45:12.833224: I tensorflow/core/grappler/optimizers/meta_optimizer.cc:799]   arithmetic_optimizer: Graph size after: 14799 nodes (0), 22147 edges (0), time = 801.261ms.\n",
      "2020-06-25 12:45:12.833230: I tensorflow/core/grappler/optimizers/meta_optimizer.cc:799]   dependency_optimizer: Graph size after: 14799 nodes (0), 22147 edges (0), time = 572.41ms.\n",
      "2020-06-25 12:45:12.833237: I tensorflow/core/grappler/optimizers/meta_optimizer.cc:799]   remapper: Graph size after: 14799 nodes (0), 22147 edges (0), time = 319.507ms.\n",
      "2020-06-25 12:45:12.833243: I tensorflow/core/grappler/optimizers/meta_optimizer.cc:799]   constant_folding: Graph size after: 14799 nodes (0), 22147 edges (0), time = 835.249ms.\n",
      "2020-06-25 12:45:12.833249: I tensorflow/core/grappler/optimizers/meta_optimizer.cc:799]   arithmetic_optimizer: Graph size after: 14799 nodes (0), 22147 edges (0), time = 907.745ms.\n",
      "2020-06-25 12:45:12.833255: I tensorflow/core/grappler/optimizers/meta_optimizer.cc:799]   dependency_optimizer: Graph size after: 14799 nodes (0), 22147 edges (0), time = 606.394ms.\n",
      "Writing weight file ./tf-dog-classification-model/model.json...\n"
     ]
    }
   ],
   "source": [
    "!tensorflowjs_converter \\\n",
    "    --input_format=tf_frozen_model \\\n",
    "    --output_node_names='output' \\\n",
    "    dog-classification-model.pb \\\n",
    "    ./tf-dog-classification-model"
   ]
  },
  {
   "cell_type": "code",
   "execution_count": null,
   "metadata": {},
   "outputs": [],
   "source": []
  }
 ],
 "metadata": {
  "environment": {
   "name": "pytorch-gpu.1-4.m49",
   "type": "gcloud",
   "uri": "gcr.io/deeplearning-platform-release/pytorch-gpu.1-4:m49"
  },
  "kernelspec": {
   "display_name": "Python 3",
   "language": "python",
   "name": "python3"
  },
  "language_info": {
   "codemirror_mode": {
    "name": "ipython",
    "version": 3
   },
   "file_extension": ".py",
   "mimetype": "text/x-python",
   "name": "python",
   "nbconvert_exporter": "python",
   "pygments_lexer": "ipython3",
   "version": "3.7.6"
  }
 },
 "nbformat": 4,
 "nbformat_minor": 4
}
